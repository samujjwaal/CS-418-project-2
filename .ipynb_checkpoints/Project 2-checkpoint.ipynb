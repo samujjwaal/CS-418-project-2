{
 "cells": [
  {
   "cell_type": "markdown",
   "metadata": {},
   "source": [
    "# Project 2"
   ]
  },
  {
   "cell_type": "code",
   "execution_count": 29,
   "metadata": {},
   "outputs": [],
   "source": [
    "import pandas as pd\n",
    "import numpy as np\n",
    "import math as m\n",
    "import matplotlib.pyplot as plt\n",
    "import seaborn as sns\n",
    "import scipy.stats as st\n",
    "import plotly.figure_factory as ff\n",
    "from sklearn.model_selection import train_test_split, KFold, cross_val_score\n",
    "from sklearn.preprocessing import StandardScaler\n",
    "from sklearn import linear_model\n",
    "from sklearn.pipeline import Pipeline\n",
    "from sklearn import metrics\n",
    "from sklearn.metrics import mean_squared_error\n",
    "from sklearn.tree import DecisionTreeClassifier\n",
    "from sklearn.neighbors import KNeighborsClassifier \n",
    "from sklearn.naive_bayes import GaussianNB\n",
    "from sklearn.svm import SVC"
   ]
  },
  {
   "cell_type": "code",
   "execution_count": 2,
   "metadata": {},
   "outputs": [],
   "source": [
    "#import dataset\n",
    "original_election_data = pd.read_csv(\"merged_train.csv\")\n",
    "#original_election_data.head()"
   ]
  },
  {
   "cell_type": "code",
   "execution_count": 3,
   "metadata": {
    "scrolled": true
   },
   "outputs": [],
   "source": [
    "#import dataset\n",
    "test_data = pd.read_csv(\"demographics_test.csv\")\n",
    "#test_data.head()"
   ]
  },
  {
   "cell_type": "code",
   "execution_count": 4,
   "metadata": {
    "scrolled": true
   },
   "outputs": [],
   "source": [
    "demo_data = original_election_data[original_election_data['Party'] == 1]\n",
    "repub_data = original_election_data[original_election_data['Party'] != 1]"
   ]
  },
  {
   "cell_type": "markdown",
   "metadata": {},
   "source": [
    "### Task 1 : Partition dataset into training and validation sets "
   ]
  },
  {
   "cell_type": "code",
   "execution_count": 5,
   "metadata": {},
   "outputs": [],
   "source": [
    "#using Holdout method\n",
    "demo_x_train, demo_x_val, demo_y_train, demo_y_val = train_test_split(demo_data.iloc[:,:-3], demo_data['Democratic'], test_size = 0.25, random_state=0)\n",
    "repub_x_train, repub_x_val, repub_y_train, repub_y_val = train_test_split(repub_data.iloc[:,:-3], repub_data['Republican'], test_size = 0.25, random_state=0)\n",
    "#demo_x_train.head()\n",
    "#repub_x_train.iloc[:,3:]"
   ]
  },
  {
   "cell_type": "code",
   "execution_count": 23,
   "metadata": {},
   "outputs": [],
   "source": [
    "x_train, x_val, y_train, y_val = train_test_split(original_election_data.iloc[:,:-3], original_election_data['Party'], test_size = 0.25, random_state=0)"
   ]
  },
  {
   "cell_type": "markdown",
   "metadata": {},
   "source": [
    "### Task 2 : Standardizing training and validation sets"
   ]
  },
  {
   "cell_type": "code",
   "execution_count": 6,
   "metadata": {},
   "outputs": [],
   "source": [
    "scaler = StandardScaler()\n",
    "scaler.fit(demo_x_train.iloc[:,3:])\n",
    "demo_x_train_scaled = scaler.transform(demo_x_train.iloc[:,3:])\n",
    "demo_x_train_scaled = pd.DataFrame(demo_x_train_scaled)\n",
    "demo_x_val_scaled = scaler.transform(demo_x_val.iloc[:,3:])\n",
    "demo_x_val_scaled = pd.DataFrame(demo_x_val_scaled)\n",
    "#demo_x_train_scaled"
   ]
  },
  {
   "cell_type": "code",
   "execution_count": 7,
   "metadata": {},
   "outputs": [],
   "source": [
    "scaler = StandardScaler()\n",
    "scaler.fit(repub_x_train.iloc[:,3:])\n",
    "repub_x_train_scaled = scaler.transform(repub_x_train.iloc[:,3:])\n",
    "repub_x_train_scaled = pd.DataFrame(repub_x_train_scaled)\n",
    "repub_x_val_scaled = scaler.transform(repub_x_val.iloc[:,3:])\n",
    "repub_x_val_scaled = pd.DataFrame(repub_x_val_scaled)"
   ]
  },
  {
   "cell_type": "code",
   "execution_count": 25,
   "metadata": {},
   "outputs": [],
   "source": [
    "scaler.fit(x_train.iloc[:,3:])\n",
    "x_train_scaled = scaler.transform(x_train.iloc[:,3:])\n",
    "x_train_scaled = pd.DataFrame(x_train_scaled)\n",
    "x_val_scaled = scaler.transform(x_val.iloc[:,3:])\n",
    "x_val_scaled = pd.DataFrame(x_val_scaled)"
   ]
  },
  {
   "cell_type": "code",
   "execution_count": 8,
   "metadata": {},
   "outputs": [],
   "source": [
    "test_data_scaled = scaler.transform(test_data.iloc[:,3:])\n",
    "test_data_scaled = pd.DataFrame(test_data_scaled)"
   ]
  },
  {
   "cell_type": "code",
   "execution_count": null,
   "metadata": {},
   "outputs": [],
   "source": []
  },
  {
   "cell_type": "code",
   "execution_count": 50,
   "metadata": {},
   "outputs": [],
   "source": [
    "#using K fold cross-validation method\n",
    "folds = KFold(n_splits = 6, shuffle = False)"
   ]
  },
  {
   "cell_type": "code",
   "execution_count": 52,
   "metadata": {},
   "outputs": [],
   "source": [
    "for train_index, test_index in folds.split(demo_data):\n",
    "    print([train_index.shape[0], test_index.shape[0]])\n",
    "for train_index, test_index in folds.split(repub_data):\n",
    "    print([train_index.shape[0], test_index.shape[0]])"
   ]
  },
  {
   "cell_type": "code",
   "execution_count": 51,
   "metadata": {},
   "outputs": [
    {
     "name": "stdout",
     "output_type": "stream",
     "text": [
      "[0.73774437 0.93225943 0.90463086 0.86043711 0.79977053 0.85579754]\n",
      "0.8484399717681818 0.0645541277628473\n"
     ]
    }
   ],
   "source": [
    "scaler = StandardScaler()\n",
    "model = linear_model.LinearRegression()\n",
    "pipeline = Pipeline([('transformer', scaler), ('estimator', model)])\n",
    "scores = cross_val_score(pipeline, X = demo_data.iloc[:,3:-3], y = demo_data['Democratic'], cv = folds)\n",
    "print(scores)\n",
    "print(scores.mean(),scores.std())"
   ]
  },
  {
   "cell_type": "markdown",
   "metadata": {},
   "source": [
    "### Task 3 : Build Linear Regression Model"
   ]
  },
  {
   "cell_type": "markdown",
   "metadata": {},
   "source": [
    "#### For Democratic Party"
   ]
  },
  {
   "cell_type": "code",
   "execution_count": 63,
   "metadata": {},
   "outputs": [
    {
     "name": "stdout",
     "output_type": "stream",
     "text": [
      "[103624.81621321  -4266.71421325  -3820.7434915   -4479.42316769\n",
      "  -5484.01243206    413.41199685 -11448.16943487  -4760.86121281\n",
      "   -717.04138946   2886.76855164   5759.19791935 -24072.38083839\n",
      "  -3283.54262932]\n",
      "67233.13168724279\n"
     ]
    }
   ],
   "source": [
    "model = linear_model.LinearRegression()\n",
    "fitted_model = model.fit(X = demo_x_train_scaled, y = demo_y_train)\n",
    "print(fitted_model.coef_)\n",
    "print(fitted_model.intercept_)"
   ]
  },
  {
   "cell_type": "code",
   "execution_count": 64,
   "metadata": {},
   "outputs": [
    {
     "name": "stdout",
     "output_type": "stream",
     "text": [
      "[ 35534.52933747   -341.03510784 289390.53377784  41410.28474565\n",
      "  30078.00063559]\n"
     ]
    }
   ],
   "source": [
    "predicted = fitted_model.predict(demo_x_val_scaled)\n",
    "print(predicted[:5])"
   ]
  },
  {
   "cell_type": "code",
   "execution_count": 65,
   "metadata": {},
   "outputs": [
    {
     "name": "stdout",
     "output_type": "stream",
     "text": [
      "0.9559842733712434\n",
      "0.9139059309331442\n",
      "0.8989330493562997\n"
     ]
    }
   ],
   "source": [
    "corr_coef = np.corrcoef(predicted,demo_y_val)[1,0]\n",
    "print(corr_coef)\n",
    "R_squared = corr_coef ** 2\n",
    "print(R_squared)\n",
    "adj_R_squared =1 - (1 - R_squared)*(len(demo_y_val)-1)/(len(demo_y_val)-len(demo_x_train_scaled.columns-1))\n",
    "print(adj_R_squared)"
   ]
  },
  {
   "cell_type": "code",
   "execution_count": 66,
   "metadata": {},
   "outputs": [
    {
     "name": "stdout",
     "output_type": "stream",
     "text": [
      "0.9062568819285339\n",
      "0.8899537309595833\n"
     ]
    }
   ],
   "source": [
    "R_squared_ = fitted_model.score(X = demo_x_val_scaled, y = demo_y_val )\n",
    "print(R_squared_)\n",
    "adj_R_squared =1 - (1 - R_squared_)*(len(demo_y_val)-1)/(len(demo_y_val)-len(demo_x_train_scaled.columns-1))\n",
    "print(adj_R_squared)"
   ]
  },
  {
   "cell_type": "code",
   "execution_count": 75,
   "metadata": {},
   "outputs": [
    {
     "name": "stdout",
     "output_type": "stream",
     "text": [
      "43373.82177949648\n",
      "154265650092.2809\n",
      "1881288415.7595234\n",
      "43373.82177949648\n"
     ]
    }
   ],
   "source": [
    "rms = m.sqrt(mean_squared_error(demo_y_val, predicted))\n",
    "print(rms)\n",
    "print(((demo_y_val-predicted)**2).sum())   #rss\n",
    "print(np.mean((demo_y_val-predicted)**2))  #mse\n",
    "print(np.sqrt(np.mean((demo_y_val-predicted)**2)))"
   ]
  },
  {
   "cell_type": "markdown",
   "metadata": {},
   "source": [
    "#### For Republic Party"
   ]
  },
  {
   "cell_type": "code",
   "execution_count": 14,
   "metadata": {},
   "outputs": [
    {
     "name": "stdout",
     "output_type": "stream",
     "text": [
      "[20959.79427444  1073.48906332    26.5507054    519.20511435\n",
      "   160.1325564   -219.55535432  -795.00206857  1142.94276452\n",
      "  1519.76548773   409.04285069   625.62619945  -589.5266056\n",
      "  -282.89398987]\n",
      "12655.983128834358\n"
     ]
    }
   ],
   "source": [
    "model = linear_model.LinearRegression()\n",
    "fitted_model = model.fit(X = repub_x_train_scaled, y = repub_y_train)\n",
    "print(fitted_model.coef_)\n",
    "print(fitted_model.intercept_)"
   ]
  },
  {
   "cell_type": "code",
   "execution_count": 15,
   "metadata": {},
   "outputs": [
    {
     "name": "stdout",
     "output_type": "stream",
     "text": [
      "[10845.75805198 24983.35644565 35797.76474502  2213.69567533\n",
      "  1113.58400542]\n"
     ]
    }
   ],
   "source": [
    "predicted = fitted_model.predict(repub_x_val_scaled)\n",
    "print(predicted[:5])"
   ]
  },
  {
   "cell_type": "code",
   "execution_count": 16,
   "metadata": {},
   "outputs": [
    {
     "name": "stdout",
     "output_type": "stream",
     "text": [
      "0.9827560742690562\n",
      "0.9658095015127267\n",
      "0.9638081064793254\n"
     ]
    }
   ],
   "source": [
    "corr_coef = np.corrcoef(predicted,repub_y_val)[1,0]\n",
    "print(corr_coef)\n",
    "R_squared = corr_coef ** 2\n",
    "print(R_squared)\n",
    "adj_R_squared =1 - (1 - R_squared)*(len(repub_y_val)-1)/(len(repub_y_val)-len(repub_x_train_scaled.columns-1))\n",
    "print(adj_R_squared)"
   ]
  },
  {
   "cell_type": "code",
   "execution_count": 17,
   "metadata": {},
   "outputs": [
    {
     "name": "stdout",
     "output_type": "stream",
     "text": [
      "0.956582314849456\n",
      "0.9540407918162535\n"
     ]
    }
   ],
   "source": [
    "R_squared_ = fitted_model.score(X = repub_x_val_scaled, y = repub_y_val )\n",
    "print(R_squared_)\n",
    "adj_R_squared =1 - (1 - R_squared_)*(len(repub_y_val)-1)/(len(repub_y_val)-len(repub_x_train_scaled.columns-1))\n",
    "print(adj_R_squared)"
   ]
  },
  {
   "cell_type": "code",
   "execution_count": 18,
   "metadata": {},
   "outputs": [
    {
     "name": "stdout",
     "output_type": "stream",
     "text": [
      "5032.5002019522135\n"
     ]
    }
   ],
   "source": [
    "rms = m.sqrt(mean_squared_error(repub_y_val, predicted))\n",
    "print(rms)"
   ]
  },
  {
   "cell_type": "code",
   "execution_count": null,
   "metadata": {},
   "outputs": [],
   "source": []
  },
  {
   "cell_type": "code",
   "execution_count": null,
   "metadata": {},
   "outputs": [],
   "source": []
  },
  {
   "cell_type": "code",
   "execution_count": null,
   "metadata": {},
   "outputs": [],
   "source": []
  },
  {
   "cell_type": "code",
   "execution_count": null,
   "metadata": {},
   "outputs": [],
   "source": []
  },
  {
   "cell_type": "code",
   "execution_count": null,
   "metadata": {},
   "outputs": [],
   "source": []
  },
  {
   "cell_type": "markdown",
   "metadata": {},
   "source": [
    "### Task 4 : Build Classification Model"
   ]
  },
  {
   "cell_type": "markdown",
   "metadata": {},
   "source": [
    "#### k Nearest"
   ]
  },
  {
   "cell_type": "code",
   "execution_count": 26,
   "metadata": {},
   "outputs": [
    {
     "data": {
      "text/plain": [
       "KNeighborsClassifier(algorithm='auto', leaf_size=30, metric='minkowski',\n",
       "                     metric_params=None, n_jobs=None, n_neighbors=3, p=2,\n",
       "                     weights='uniform')"
      ]
     },
     "execution_count": 26,
     "metadata": {},
     "output_type": "execute_result"
    }
   ],
   "source": [
    "classifier = KNeighborsClassifier(n_neighbors = 3)  \n",
    "classifier.fit(x_train_scaled,y_train)"
   ]
  },
  {
   "cell_type": "code",
   "execution_count": 32,
   "metadata": {},
   "outputs": [],
   "source": [
    "y_pred = classifier.predict(x_val_scaled)"
   ]
  },
  {
   "cell_type": "code",
   "execution_count": 45,
   "metadata": {},
   "outputs": [
    {
     "name": "stdout",
     "output_type": "stream",
     "text": [
      "[[202  20]\n",
      " [ 39  38]]\n"
     ]
    },
    {
     "data": {
      "image/png": "[encoded data removed]",
      "text/plain": [
       "<Figure size 432x288 with 2 Axes>"
      ]
     },
     "metadata": {
      "needs_background": "light"
     },
     "output_type": "display_data"
    }
   ],
   "source": [
    "conf_matrix = metrics.confusion_matrix(y_val,y_pred)\n",
    "sns.heatmap(conf_matrix, annot = True, fmt = \".2f\", square = True, cmap = plt.cm.Blues)\n",
    "plt.ylabel('Actual')\n",
    "plt.xlabel('Predicted')\n",
    "plt.title('Confusion matrix')\n",
    "plt.tight_layout()\n",
    "print(conf_matrix)"
   ]
  },
  {
   "cell_type": "code",
   "execution_count": 44,
   "metadata": {},
   "outputs": [
    {
     "name": "stdout",
     "output_type": "stream",
     "text": [
      "[0.802675585284281, 0.19732441471571904, array([0.83817427, 0.65517241]), array([0.90990991, 0.49350649]), array([0.87257019, 0.56296296])]\n"
     ]
    }
   ],
   "source": [
    "accuracy = metrics.accuracy_score(y_val,y_pred)\n",
    "error = 1 - accuracy\n",
    "precision = metrics.precision_score(y_val, y_pred, average = None)\n",
    "recall = metrics.recall_score(y_val, y_pred, average = None)\n",
    "F1_score = metrics.f1_score(y_val, y_pred, average = None)\n",
    "print([accuracy, error, precision, recall, F1_score])"
   ]
  },
  {
   "cell_type": "markdown",
   "metadata": {},
   "source": [
    "#### Naive Bayes"
   ]
  },
  {
   "cell_type": "code",
   "execution_count": 46,
   "metadata": {},
   "outputs": [
    {
     "data": {
      "text/plain": [
       "GaussianNB(priors=None, var_smoothing=1e-09)"
      ]
     },
     "execution_count": 46,
     "metadata": {},
     "output_type": "execute_result"
    }
   ],
   "source": [
    "classifier = GaussianNB()  \n",
    "classifier.fit(x_train_scaled,y_train)"
   ]
  },
  {
   "cell_type": "code",
   "execution_count": 47,
   "metadata": {},
   "outputs": [],
   "source": [
    "y_pred = classifier.predict(x_val_scaled)"
   ]
  },
  {
   "cell_type": "code",
   "execution_count": 48,
   "metadata": {},
   "outputs": [
    {
     "name": "stdout",
     "output_type": "stream",
     "text": [
      "[[195  27]\n",
      " [ 34  43]]\n"
     ]
    },
    {
     "data": {
      "image/png": "[encoded data removed]",
      "text/plain": [
       "<Figure size 432x288 with 2 Axes>"
      ]
     },
     "metadata": {
      "needs_background": "light"
     },
     "output_type": "display_data"
    }
   ],
   "source": [
    "conf_matrix = metrics.confusion_matrix(y_val,y_pred)\n",
    "sns.heatmap(conf_matrix, annot = True, fmt = \".2f\", square = True, cmap = plt.cm.Blues)\n",
    "plt.ylabel('Actual')\n",
    "plt.xlabel('Predicted')\n",
    "plt.title('Confusion matrix')\n",
    "plt.tight_layout()\n",
    "print(conf_matrix)"
   ]
  },
  {
   "cell_type": "code",
   "execution_count": 49,
   "metadata": {},
   "outputs": [
    {
     "name": "stdout",
     "output_type": "stream",
     "text": [
      "[0.7959866220735786, 0.20401337792642138, array([0.85152838, 0.61428571]), array([0.87837838, 0.55844156]), array([0.86474501, 0.58503401])]\n"
     ]
    }
   ],
   "source": [
    "accuracy = metrics.accuracy_score(y_val,y_pred)\n",
    "error = 1 - accuracy\n",
    "precision = metrics.precision_score(y_val, y_pred, average = None)\n",
    "recall = metrics.recall_score(y_val, y_pred, average = None)\n",
    "F1_score = metrics.f1_score(y_val, y_pred, average = None)\n",
    "print([accuracy, error, precision, recall, F1_score])"
   ]
  },
  {
   "cell_type": "markdown",
   "metadata": {},
   "source": [
    "#### SVM"
   ]
  },
  {
   "cell_type": "code",
   "execution_count": 52,
   "metadata": {},
   "outputs": [
    {
     "data": {
      "text/plain": [
       "SVC(C=1.0, cache_size=200, class_weight=None, coef0=0.0,\n",
       "    decision_function_shape='ovr', degree=3, gamma='auto', kernel='rbf',\n",
       "    max_iter=-1, probability=False, random_state=None, shrinking=True,\n",
       "    tol=0.001, verbose=False)"
      ]
     },
     "execution_count": 52,
     "metadata": {},
     "output_type": "execute_result"
    }
   ],
   "source": [
    "classifier = SVC(kernel = 'rbf', gamma = 'auto')  \n",
    "classifier.fit(x_train_scaled,y_train)"
   ]
  },
  {
   "cell_type": "code",
   "execution_count": 53,
   "metadata": {},
   "outputs": [],
   "source": [
    "y_pred = classifier.predict(x_val_scaled)"
   ]
  },
  {
   "cell_type": "code",
   "execution_count": 55,
   "metadata": {},
   "outputs": [
    {
     "name": "stdout",
     "output_type": "stream",
     "text": [
      "[[216   6]\n",
      " [ 37  40]]\n"
     ]
    },
    {
     "data": {
      "image/png": "[encoded data removed]",
      "text/plain": [
       "<Figure size 432x288 with 2 Axes>"
      ]
     },
     "metadata": {
      "needs_background": "light"
     },
     "output_type": "display_data"
    }
   ],
   "source": [
    "conf_matrix = metrics.confusion_matrix(y_val,y_pred)\n",
    "sns.heatmap(conf_matrix, annot = True, fmt = \".2f\", square = True, cmap = plt.cm.Blues)\n",
    "plt.ylabel('Actual')\n",
    "plt.xlabel('Predicted')\n",
    "plt.title('Confusion matrix')\n",
    "plt.tight_layout()\n",
    "print(conf_matrix)"
   ]
  },
  {
   "cell_type": "code",
   "execution_count": 56,
   "metadata": {},
   "outputs": [
    {
     "name": "stdout",
     "output_type": "stream",
     "text": [
      "[0.8561872909698997, 0.14381270903010035, array([0.85375494, 0.86956522]), array([0.97297297, 0.51948052]), array([0.90947368, 0.6504065 ])]\n"
     ]
    }
   ],
   "source": [
    "accuracy = metrics.accuracy_score(y_val,y_pred)\n",
    "error = 1 - accuracy\n",
    "precision = metrics.precision_score(y_val, y_pred, average = None)\n",
    "recall = metrics.recall_score(y_val, y_pred, average = None)\n",
    "F1_score = metrics.f1_score(y_val, y_pred, average = None)\n",
    "print([accuracy, error, precision, recall, F1_score])"
   ]
  },
  {
   "cell_type": "markdown",
   "metadata": {},
   "source": [
    "#### Decision Tree"
   ]
  },
  {
   "cell_type": "code",
   "execution_count": 57,
   "metadata": {},
   "outputs": [
    {
     "data": {
      "text/plain": [
       "DecisionTreeClassifier(class_weight=None, criterion='entropy', max_depth=None,\n",
       "                       max_features=None, max_leaf_nodes=None,\n",
       "                       min_impurity_decrease=0.0, min_impurity_split=None,\n",
       "                       min_samples_leaf=1, min_samples_split=2,\n",
       "                       min_weight_fraction_leaf=0.0, presort=False,\n",
       "                       random_state=0, splitter='best')"
      ]
     },
     "execution_count": 57,
     "metadata": {},
     "output_type": "execute_result"
    }
   ],
   "source": [
    "classifier = DecisionTreeClassifier(criterion = \"entropy\", random_state = 0)\n",
    "classifier.fit(x_train_scaled,y_train)"
   ]
  },
  {
   "cell_type": "code",
   "execution_count": 58,
   "metadata": {
    "scrolled": true
   },
   "outputs": [
    {
     "name": "stdout",
     "output_type": "stream",
     "text": [
      "[(  1, 100, 11, -0.08037002, 0.85103407, 896, 896.)\n",
      " (  2,   7, 12, -1.57463121, 0.99675236, 328, 328.)\n",
      " (  3,   4,  1,  0.13988956, 0.28290479,  61,  61.)\n",
      " ( -1,  -1, -2, -2.        , 0.        ,  57,  57.)\n",
      " (  5,   6, 11, -2.27329141, 0.81127812,   4,   4.)\n",
      " ( -1,  -1, -2, -2.        , 0.        ,   1,   1.)\n",
      " ( -1,  -1, -2, -2.        , 0.        ,   3,   3.)\n",
      " (  8,  15,  0, -0.34515437, 0.98895258, 267, 267.)\n",
      " (  9,  10, 11, -0.18558561, 0.30337484,  37,  37.)\n",
      " ( -1,  -1, -2, -2.        , 0.        ,  29,  29.)\n",
      " ( 11,  12,  9, -0.91212842, 0.81127812,   8,   8.)\n",
      " ( -1,  -1, -2, -2.        , 0.        ,   5,   5.)\n",
      " ( 13,  14,  5,  0.40603571, 0.91829583,   3,   3.)\n",
      " ( -1,  -1, -2, -2.        , 0.        ,   2,   2.)\n",
      " ( -1,  -1, -2, -2.        , 0.        ,   1,   1.)\n",
      " ( 16,  17,  1, -1.39712286, 1.        , 230, 230.)\n",
      " ( -1,  -1, -2, -2.        , 0.        ,  10,  10.)\n",
      " ( 18,  99, 10,  0.07734165, 0.9985091 , 220, 220.)\n",
      " ( 19,  42,  4, -0.37913467, 0.99998349, 209, 209.)\n",
      " ( 20,  25,  8, -0.14533475, 0.8890349 ,  62,  62.)\n",
      " ( 21,  24,  7,  0.36920083, 0.86312057,  14,  14.)\n",
      " ( 22,  23,  2,  0.18771875, 0.65002242,  12,  12.)\n",
      " ( -1,  -1, -2, -2.        , 0.        ,  10,  10.)\n",
      " ( -1,  -1, -2, -2.        , 0.        ,   2,   2.)\n",
      " ( -1,  -1, -2, -2.        , 0.        ,   2,   2.)\n",
      " ( 26,  27,  1,  0.62267354, 0.69621226,  48,  48.)\n",
      " ( -1,  -1, -2, -2.        , 0.        ,  16,  16.)\n",
      " ( 28,  41, 11, -0.1682383 , 0.85714844,  32,  32.)\n",
      " ( 29,  40,  6,  0.67939885, 0.73550858,  29,  29.)\n",
      " ( 30,  39,  8,  0.51208383, 0.60518658,  27,  27.)\n",
      " ( 31,  34,  4, -0.49395105, 0.83664074,  15,  15.)\n",
      " ( 32,  33, 11, -0.27043697, 0.46899559,  10,  10.)\n",
      " ( -1,  -1, -2, -2.        , 0.        ,   9,   9.)\n",
      " ( -1,  -1, -2, -2.        , 0.        ,   1,   1.)\n",
      " ( 35,  36,  6, -0.97654212, 0.97095059,   5,   5.)\n",
      " ( -1,  -1, -2, -2.        , 0.        ,   2,   2.)\n",
      " ( 37,  38,  8,  0.11499928, 0.91829583,   3,   3.)\n",
      " ( -1,  -1, -2, -2.        , 0.        ,   1,   1.)\n",
      " ( -1,  -1, -2, -2.        , 0.        ,   2,   2.)\n",
      " ( -1,  -1, -2, -2.        , 0.        ,  12,  12.)\n",
      " ( -1,  -1, -2, -2.        , 0.        ,   2,   2.)\n",
      " ( -1,  -1, -2, -2.        , 0.        ,   3,   3.)\n",
      " ( 43,  92,  3,  0.05903428, 0.97903461, 147, 147.)\n",
      " ( 44,  83,  8,  2.13687468, 0.93925472, 118, 118.)\n",
      " ( 45,  82, 12, -0.01478512, 0.88247445, 103, 103.)\n",
      " ( 46,  53, 11, -1.47726208, 0.93255384,  89,  89.)\n",
      " ( 47,  48,  8,  1.62924671, 0.42622866,  23,  23.)\n",
      " ( -1,  -1, -2, -2.        , 0.        ,  17,  17.)\n",
      " ( 49,  52,  5,  0.71812838, 0.91829583,   6,   6.)\n",
      " ( 50,  51, 11, -2.57235062, 0.91829583,   3,   3.)\n",
      " ( -1,  -1, -2, -2.        , 0.        ,   1,   1.)\n",
      " ( -1,  -1, -2, -2.        , 0.        ,   2,   2.)\n",
      " ( -1,  -1, -2, -2.        , 0.        ,   3,   3.)\n",
      " ( 54,  57, 10, -1.00663757, 0.98937558,  66,  66.)\n",
      " ( 55,  56, 11, -1.36946547, 0.43949699,  11,  11.)\n",
      " ( -1,  -1, -2, -2.        , 0.        ,   1,   1.)\n",
      " ( -1,  -1, -2, -2.        , 0.        ,  10,  10.)\n",
      " ( 58,  69,  0,  0.06232688, 0.99976152,  55,  55.)\n",
      " ( 59,  60,  0, -0.26622814, 0.90592822,  28,  28.)\n",
      " ( -1,  -1, -2, -2.        , 0.        ,   3,   3.)\n",
      " ( 61,  62,  9, -0.40477926, 0.79504028,  25,  25.)\n",
      " ( -1,  -1, -2, -2.        , 0.        ,  10,  10.)\n",
      " ( 63,  64,  0, -0.21745228, 0.97095059,  15,  15.)\n",
      " ( -1,  -1, -2, -2.        , 0.        ,   4,   4.)\n",
      " ( 65,  66,  7, -0.58334582, 0.99403021,  11,  11.)\n",
      " ( -1,  -1, -2, -2.        , 0.        ,   4,   4.)\n",
      " ( 67,  68, 10, -0.69751415, 0.86312057,   7,   7.)\n",
      " ( -1,  -1, -2, -2.        , 0.        ,   2,   2.)\n",
      " ( -1,  -1, -2, -2.        , 0.        ,   5,   5.)\n",
      " ( 70,  81, 12, -1.04157078, 0.91829583,  27,  27.)\n",
      " ( 71,  80,  6,  0.92913273, 0.99277445,  20,  20.)\n",
      " ( 72,  75,  7, -0.46444936, 0.89603823,  16,  16.)\n",
      " ( 73,  74, 10, -0.92671674, 0.50325833,   9,   9.)\n",
      " ( -1,  -1, -2, -2.        , 0.        ,   1,   1.)\n",
      " ( -1,  -1, -2, -2.        , 0.        ,   8,   8.)\n",
      " ( 76,  79,  6, -0.03350545, 0.98522814,   7,   7.)\n",
      " ( 77,  78,  9,  0.89954698, 0.81127812,   4,   4.)\n",
      " ( -1,  -1, -2, -2.        , 0.        ,   3,   3.)\n",
      " ( -1,  -1, -2, -2.        , 0.        ,   1,   1.)\n",
      " ( -1,  -1, -2, -2.        , 0.        ,   3,   3.)\n",
      " ( -1,  -1, -2, -2.        , 0.        ,   4,   4.)\n",
      " ( -1,  -1, -2, -2.        , 0.        ,   7,   7.)\n",
      " ( -1,  -1, -2, -2.        , 0.        ,  14,  14.)\n",
      " ( 84,  85,  3, -0.4157771 , 0.83664074,  15,  15.)\n",
      " ( -1,  -1, -2, -2.        , 0.        ,   7,   7.)\n",
      " ( 86,  87,  4,  0.10013912, 1.        ,   8,   8.)\n",
      " ( -1,  -1, -2, -2.        , 0.        ,   2,   2.)\n",
      " ( 88,  89,  4,  0.30861057, 0.91829583,   6,   6.)\n",
      " ( -1,  -1, -2, -2.        , 0.        ,   3,   3.)\n",
      " ( 90,  91,  4,  0.71367368, 0.91829583,   3,   3.)\n",
      " ( -1,  -1, -2, -2.        , 0.        ,   2,   2.)\n",
      " ( -1,  -1, -2, -2.        , 0.        ,   1,   1.)\n",
      " ( 93,  96,  9,  0.22570178, 0.92936363,  29,  29.)\n",
      " ( 94,  95,  8,  3.66894639, 0.54356444,  16,  16.)\n",
      " ( -1,  -1, -2, -2.        , 0.        ,  14,  14.)\n",
      " ( -1,  -1, -2, -2.        , 0.        ,   2,   2.)\n",
      " ( 97,  98,  7,  0.72845934, 0.9612366 ,  13,  13.)\n",
      " ( -1,  -1, -2, -2.        , 0.        ,   8,   8.)\n",
      " ( -1,  -1, -2, -2.        , 0.        ,   5,   5.)\n",
      " ( -1,  -1, -2, -2.        , 0.        ,  11,  11.)\n",
      " (101, 110,  1, -1.93926793, 0.55336838, 568, 568.)\n",
      " (102, 103,  3,  2.75355005, 0.99613448,  41,  41.)\n",
      " ( -1,  -1, -2, -2.        , 0.        ,  13,  13.)\n",
      " (104, 105,  1, -3.12038493, 0.90592822,  28,  28.)\n",
      " ( -1,  -1, -2, -2.        , 0.        ,   7,   7.)\n",
      " (106, 109,  1, -2.37764275, 0.45371634,  21,  21.)\n",
      " (107, 108,  3,  3.70863354, 0.91829583,   6,   6.)\n",
      " ( -1,  -1, -2, -2.        , 0.        ,   2,   2.)\n",
      " ( -1,  -1, -2, -2.        , 0.        ,   4,   4.)\n",
      " ( -1,  -1, -2, -2.        , 0.        ,  15,  15.)\n",
      " (111, 196,  3,  0.07042832, 0.45868582, 527, 527.)\n",
      " (112, 193,  5,  1.17786229, 0.53017385, 424, 424.)\n",
      " (113, 158, 10, -0.27290677, 0.50723272, 418, 418.)\n",
      " (114, 115,  2, -0.58004016, 0.66366113, 168, 168.)\n",
      " ( -1,  -1, -2, -2.        , 0.        ,  24,  24.)\n",
      " (116, 141,  6, -0.33900376, 0.72469719, 144, 144.)\n",
      " (117, 140,  9,  0.75768894, 0.86853396,  69,  69.)\n",
      " (118, 139, 10, -0.29305258, 0.93484902,  57,  57.)\n",
      " (119, 120, 12, -0.6469022 , 0.89865338,  54,  54.)\n",
      " ( -1,  -1, -2, -2.        , 0.        ,   3,   3.)\n",
      " (121, 138,  7,  1.93100727, 0.84786175,  51,  51.)\n",
      " (122, 131,  2, -0.52002695, 0.80309098,  49,  49.)\n",
      " (123, 124,  1,  0.77033558, 0.56650951,  30,  30.)\n",
      " ( -1,  -1, -2, -2.        , 0.        ,  15,  15.)\n",
      " (125, 126,  7,  0.24093483, 0.83664074,  15,  15.)\n",
      " ( -1,  -1, -2, -2.        , 0.        ,   2,   2.)\n",
      " (127, 128, 10, -0.54269454, 0.61938219,  13,  13.)\n",
      " ( -1,  -1, -2, -2.        , 0.        ,  10,  10.)\n",
      " (129, 130,  3, -0.59259918, 0.91829583,   3,   3.)\n",
      " ( -1,  -1, -2, -2.        , 0.        ,   1,   1.)\n",
      " ( -1,  -1, -2, -2.        , 0.        ,   2,   2.)\n",
      " (132, 135, 10, -0.52860704, 0.98194079,  19,  19.)\n",
      " (133, 134,  0, -0.35401343, 0.54356444,   8,   8.)\n",
      " ( -1,  -1, -2, -2.        , 0.        ,   1,   1.)\n",
      " ( -1,  -1, -2, -2.        , 0.        ,   7,   7.)\n",
      " (136, 137,  5, -1.3264969 , 0.43949699,  11,  11.)\n",
      " ( -1,  -1, -2, -2.        , 0.        ,   1,   1.)\n",
      " ( -1,  -1, -2, -2.        , 0.        ,  10,  10.)\n",
      " ( -1,  -1, -2, -2.        , 0.        ,   2,   2.)\n",
      " ( -1,  -1, -2, -2.        , 0.        ,   3,   3.)\n",
      " ( -1,  -1, -2, -2.        , 0.        ,  12,  12.)\n",
      " (142, 155,  9,  1.04082423, 0.52936087,  75,  75.)\n",
      " (143, 154,  9, -0.2200299 , 0.41786426,  71,  71.)\n",
      " (144, 149, 12, -0.17743065, 0.6098403 ,  40,  40.)\n",
      " (145, 146,  3, -0.42516482, 1.        ,   8,   8.)\n",
      " ( -1,  -1, -2, -2.        , 0.        ,   3,   3.)\n",
      " (147, 148,  9, -1.51887619, 0.72192809,   5,   5.)\n",
      " ( -1,  -1, -2, -2.        , 0.        ,   1,   1.)\n",
      " ( -1,  -1, -2, -2.        , 0.        ,   4,   4.)\n",
      " (150, 151, 12,  1.07181042, 0.33729007,  32,  32.)\n",
      " ( -1,  -1, -2, -2.        , 0.        ,  24,  24.)\n",
      " (152, 153,  6, -0.20031215, 0.81127812,   8,   8.)\n",
      " ( -1,  -1, -2, -2.        , 0.        ,   2,   2.)\n",
      " ( -1,  -1, -2, -2.        , 0.        ,   6,   6.)\n",
      " ( -1,  -1, -2, -2.        , 0.        ,  31,  31.)\n",
      " (156, 157,  4, -0.40317059, 0.81127812,   4,   4.)\n",
      " ( -1,  -1, -2, -2.        , 0.        ,   3,   3.)\n",
      " ( -1,  -1, -2, -2.        , 0.        ,   1,   1.)\n",
      " (159, 170,  4, -0.71062896, 0.37334332, 250, 250.)\n",
      " (160, 169,  8, -0.68556282, 0.74248757,  38,  38.)\n",
      " (161, 164, 12,  0.77434984, 0.91829583,  24,  24.)\n",
      " (162, 163,  8, -0.79894298, 0.81127812,   8,   8.)\n",
      " ( -1,  -1, -2, -2.        , 0.        ,   6,   6.)\n",
      " ( -1,  -1, -2, -2.        , 0.        ,   2,   2.)\n",
      " (165, 168,  7, -0.18964487, 0.54356444,  16,  16.)\n",
      " (166, 167,  2, -0.32445248, 0.91829583,   3,   3.)\n",
      " ( -1,  -1, -2, -2.        , 0.        ,   2,   2.)\n",
      " ( -1,  -1, -2, -2.        , 0.        ,   1,   1.)\n",
      " ( -1,  -1, -2, -2.        , 0.        ,  13,  13.)\n",
      " ( -1,  -1, -2, -2.        , 0.        ,  14,  14.)\n",
      " (171, 180, 11,  0.20588898, 0.27425064, 212, 212.)\n",
      " (172, 173,  9, -0.30048504, 0.73550858,  29,  29.)\n",
      " ( -1,  -1, -2, -2.        , 0.        ,  12,  12.)\n",
      " (174, 177,  0, -0.24804918, 0.93666738,  17,  17.)\n",
      " (175, 176, 12,  1.22702581, 0.86312057,   7,   7.)\n",
      " ( -1,  -1, -2, -2.        , 0.        ,   5,   5.)\n",
      " ( -1,  -1, -2, -2.        , 0.        ,   2,   2.)\n",
      " (178, 179, 11, -0.00373855, 0.46899559,  10,  10.)\n",
      " ( -1,  -1, -2, -2.        , 0.        ,   1,   1.)\n",
      " ( -1,  -1, -2, -2.        , 0.        ,   9,   9.)\n",
      " (181, 192,  5, -0.15476202, 0.15174889, 183, 183.)\n",
      " (182, 183,  8, -1.90594471, 0.32275696,  68,  68.)\n",
      " ( -1,  -1, -2, -2.        , 0.        ,   1,   1.)\n",
      " (184, 191, 11,  0.63255814, 0.26377744,  67,  67.)\n",
      " (185, 190, 11,  0.58593363, 0.65002242,  18,  18.)\n",
      " (186, 187,  0, -0.12371872, 0.33729007,  16,  16.)\n",
      " ( -1,  -1, -2, -2.        , 0.        ,  14,  14.)\n",
      " (188, 189,  4, -0.45904274, 1.        ,   2,   2.)\n",
      " ( -1,  -1, -2, -2.        , 0.        ,   1,   1.)\n",
      " ( -1,  -1, -2, -2.        , 0.        ,   1,   1.)\n",
      " ( -1,  -1, -2, -2.        , 0.        ,   2,   2.)\n",
      " ( -1,  -1, -2, -2.        , 0.        ,  49,  49.)\n",
      " ( -1,  -1, -2, -2.        , 0.        , 115, 115.)\n",
      " (194, 195,  0, -0.34596957, 0.91829583,   6,   6.)\n",
      " ( -1,  -1, -2, -2.        , 0.        ,   2,   2.)\n",
      " ( -1,  -1, -2, -2.        , 0.        ,   4,   4.)\n",
      " ( -1,  -1, -2, -2.        , 0.        , 103, 103.)]\n"
     ]
    },
    {
     "data": {
      "text/plain": [
       "197"
      ]
     },
     "execution_count": 58,
     "metadata": {},
     "output_type": "execute_result"
    }
   ],
   "source": [
    "print(classifier.tree_.__getstate__()['nodes'])\n",
    "len(classifier.tree_.__getstate__()['nodes'])"
   ]
  },
  {
   "cell_type": "code",
   "execution_count": 59,
   "metadata": {},
   "outputs": [],
   "source": [
    "y_pred = classifier.predict(x_val_scaled)"
   ]
  },
  {
   "cell_type": "code",
   "execution_count": 60,
   "metadata": {},
   "outputs": [
    {
     "name": "stdout",
     "output_type": "stream",
     "text": [
      "[[184  38]\n",
      " [ 34  43]]\n"
     ]
    },
    {
     "data": {
      "image/png": "[encoded data removed]",
      "text/plain": [
       "<Figure size 432x288 with 2 Axes>"
      ]
     },
     "metadata": {
      "needs_background": "light"
     },
     "output_type": "display_data"
    }
   ],
   "source": [
    "conf_matrix = metrics.confusion_matrix(y_val,y_pred)\n",
    "sns.heatmap(conf_matrix, annot = True, fmt = \".2f\", square = True, cmap = plt.cm.Blues)\n",
    "plt.ylabel('Actual')\n",
    "plt.xlabel('Predicted')\n",
    "plt.title('Confusion matrix')\n",
    "plt.tight_layout()\n",
    "print(conf_matrix)"
   ]
  },
  {
   "cell_type": "code",
   "execution_count": 61,
   "metadata": {},
   "outputs": [
    {
     "name": "stdout",
     "output_type": "stream",
     "text": [
      "[0.7591973244147158, 0.24080267558528423, array([0.8440367, 0.5308642]), array([0.82882883, 0.55844156]), array([0.83636364, 0.5443038 ])]\n"
     ]
    }
   ],
   "source": [
    "accuracy = metrics.accuracy_score(y_val,y_pred)\n",
    "error = 1 - accuracy\n",
    "precision = metrics.precision_score(y_val, y_pred, average = None)\n",
    "recall = metrics.recall_score(y_val, y_pred, average = None)\n",
    "F1_score = metrics.f1_score(y_val, y_pred, average = None)\n",
    "print([accuracy, error, precision, recall, F1_score])"
   ]
  },
  {
   "cell_type": "code",
   "execution_count": null,
   "metadata": {},
   "outputs": [],
   "source": []
  },
  {
   "cell_type": "code",
   "execution_count": null,
   "metadata": {},
   "outputs": [],
   "source": []
  },
  {
   "cell_type": "code",
   "execution_count": null,
   "metadata": {},
   "outputs": [],
   "source": []
  },
  {
   "cell_type": "code",
   "execution_count": null,
   "metadata": {},
   "outputs": [],
   "source": []
  },
  {
   "cell_type": "code",
   "execution_count": null,
   "metadata": {},
   "outputs": [],
   "source": []
  },
  {
   "cell_type": "code",
   "execution_count": null,
   "metadata": {},
   "outputs": [],
   "source": []
  },
  {
   "cell_type": "code",
   "execution_count": null,
   "metadata": {},
   "outputs": [],
   "source": []
  },
  {
   "cell_type": "code",
   "execution_count": null,
   "metadata": {},
   "outputs": [],
   "source": []
  },
  {
   "cell_type": "code",
   "execution_count": null,
   "metadata": {},
   "outputs": [],
   "source": []
  },
  {
   "cell_type": "code",
   "execution_count": null,
   "metadata": {},
   "outputs": [],
   "source": []
  },
  {
   "cell_type": "code",
   "execution_count": null,
   "metadata": {},
   "outputs": [],
   "source": []
  },
  {
   "cell_type": "code",
   "execution_count": null,
   "metadata": {},
   "outputs": [],
   "source": []
  },
  {
   "cell_type": "code",
   "execution_count": null,
   "metadata": {},
   "outputs": [],
   "source": []
  },
  {
   "cell_type": "code",
   "execution_count": null,
   "metadata": {},
   "outputs": [],
   "source": []
  },
  {
   "cell_type": "code",
   "execution_count": null,
   "metadata": {},
   "outputs": [],
   "source": []
  }
 ],
 "metadata": {
  "kernelspec": {
   "display_name": "Python 3",
   "language": "python",
   "name": "python3"
  },
  "language_info": {
   "codemirror_mode": {
    "name": "ipython",
    "version": 3
   },
   "file_extension": ".py",
   "mimetype": "text/x-python",
   "name": "python",
   "nbconvert_exporter": "python",
   "pygments_lexer": "ipython3",
   "version": "3.6.9"
  }
 },
 "nbformat": 4,
 "nbformat_minor": 4
}
