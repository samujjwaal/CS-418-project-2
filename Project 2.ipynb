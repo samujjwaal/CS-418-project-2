{
 "cells": [
  {
   "cell_type": "markdown",
   "metadata": {},
   "source": [
    "# Project 2"
   ]
  },
  {
   "cell_type": "code",
   "execution_count": 1,
   "metadata": {},
   "outputs": [],
   "source": [
    "import pandas as pd\n",
    "import numpy as np\n",
    "import math as m\n",
    "import matplotlib.pyplot as plt\n",
    "import seaborn as sns\n",
    "import scipy.stats as st\n",
    "import plotly.figure_factory as ff\n",
    "from sklearn.model_selection import train_test_split, KFold, cross_val_score\n",
    "from sklearn.preprocessing import StandardScaler\n",
    "from sklearn import linear_model\n",
    "from sklearn.pipeline import Pipeline\n",
    "from sklearn import metrics\n",
    "from sklearn.metrics import mean_squared_error\n",
    "from sklearn.tree import DecisionTreeClassifier\n",
    "from sklearn.neighbors import KNeighborsClassifier \n",
    "from sklearn.naive_bayes import GaussianNB\n",
    "from sklearn.svm import SVC\n",
    "from scipy.cluster.hierarchy import linkage, fcluster\n",
    "from sklearn.cluster import KMeans, DBSCAN"
   ]
  },
  {
   "cell_type": "code",
   "execution_count": 2,
   "metadata": {},
   "outputs": [],
   "source": [
    "#import dataset\n",
    "original_election_data = pd.read_csv(\"merged_train.csv\")\n",
    "#original_election_data.head()\n",
    "#original_election_data.count()"
   ]
  },
  {
   "cell_type": "code",
   "execution_count": 3,
   "metadata": {
    "scrolled": true
   },
   "outputs": [],
   "source": [
    "#import dataset\n",
    "test_data = pd.read_csv(\"demographics_test.csv\")\n",
    "#test_data.head()"
   ]
  },
  {
   "cell_type": "code",
   "execution_count": 4,
   "metadata": {
    "scrolled": true
   },
   "outputs": [],
   "source": [
    "demo_data = original_election_data[original_election_data['Party'] == 1]\n",
    "repub_data = original_election_data[original_election_data['Party'] != 1]"
   ]
  },
  {
   "cell_type": "markdown",
   "metadata": {},
   "source": [
    "### Task 1 : Partition dataset into training and validation sets "
   ]
  },
  {
   "cell_type": "code",
   "execution_count": 5,
   "metadata": {},
   "outputs": [],
   "source": [
    "#using Holdout method\n",
    "demo_x_train, demo_x_val, demo_y_train, demo_y_val = train_test_split(demo_data.iloc[:,:-3], demo_data['Democratic'], test_size = 0.25, random_state=0)\n",
    "repub_x_train, repub_x_val, repub_y_train, repub_y_val = train_test_split(repub_data.iloc[:,:-3], repub_data['Republican'], test_size = 0.25, random_state=0)\n",
    "#demo_x_train.head()\n",
    "#repub_x_train.iloc[:,3:]"
   ]
  },
  {
   "cell_type": "code",
   "execution_count": 6,
   "metadata": {},
   "outputs": [
    {
     "data": {
      "text/plain": [
       "State                                    896\n",
       "County                                   896\n",
       "FIPS                                     896\n",
       "Total Population                         896\n",
       "Percent White, not Hispanic or Latino    896\n",
       "Percent Black, not Hispanic or Latino    896\n",
       "Percent Hispanic or Latino               896\n",
       "Percent Foreign Born                     896\n",
       "Percent Female                           896\n",
       "Percent Age 29 and Under                 896\n",
       "Percent Age 65 and Older                 896\n",
       "Median Household Income                  896\n",
       "Percent Unemployed                       896\n",
       "Percent Less than High School Degree     896\n",
       "Percent Less than Bachelor's Degree      896\n",
       "Percent Rural                            896\n",
       "dtype: int64"
      ]
     },
     "execution_count": 6,
     "metadata": {},
     "output_type": "execute_result"
    }
   ],
   "source": [
    "x_train, x_val, y_train, y_val = train_test_split(original_election_data.iloc[:,:-3], original_election_data['Party'], test_size = 0.25, random_state=0)\n",
    "x_train.count()"
   ]
  },
  {
   "cell_type": "code",
   "execution_count": 7,
   "metadata": {},
   "outputs": [],
   "source": [
    "data_x = original_election_data.iloc[:,:-3]\n",
    "#x_train.head()\n",
    "data_y = original_election_data['Party']\n",
    "#y_train"
   ]
  },
  {
   "cell_type": "markdown",
   "metadata": {},
   "source": [
    "### Task 2 : Standardizing training and validation sets"
   ]
  },
  {
   "cell_type": "code",
   "execution_count": 8,
   "metadata": {},
   "outputs": [],
   "source": [
    "scaler = StandardScaler()\n",
    "scaler.fit(demo_x_train.iloc[:,3:])\n",
    "demo_x_train_scaled = scaler.transform(demo_x_train.iloc[:,3:])\n",
    "demo_x_train_scaled = pd.DataFrame(demo_x_train_scaled)\n",
    "demo_x_val_scaled = scaler.transform(demo_x_val.iloc[:,3:])\n",
    "demo_x_val_scaled = pd.DataFrame(demo_x_val_scaled)\n",
    "#demo_x_train_scaled"
   ]
  },
  {
   "cell_type": "code",
   "execution_count": 9,
   "metadata": {},
   "outputs": [],
   "source": [
    "scaler = StandardScaler()\n",
    "scaler.fit(repub_x_train.iloc[:,3:])\n",
    "repub_x_train_scaled = scaler.transform(repub_x_train.iloc[:,3:])\n",
    "repub_x_train_scaled = pd.DataFrame(repub_x_train_scaled)\n",
    "repub_x_val_scaled = scaler.transform(repub_x_val.iloc[:,3:])\n",
    "repub_x_val_scaled = pd.DataFrame(repub_x_val_scaled)"
   ]
  },
  {
   "cell_type": "code",
   "execution_count": 10,
   "metadata": {},
   "outputs": [],
   "source": [
    "scaler = StandardScaler()\n",
    "scaler.fit(x_train.iloc[:,3:])\n",
    "x_train_scaled = scaler.transform(x_train.iloc[:,3:])\n",
    "x_train_scaled = pd.DataFrame(x_train_scaled)\n",
    "x_val_scaled = scaler.transform(x_val.iloc[:,3:])\n",
    "x_val_scaled = pd.DataFrame(x_val_scaled)"
   ]
  },
  {
   "cell_type": "code",
   "execution_count": 11,
   "metadata": {},
   "outputs": [],
   "source": [
    "scaler = StandardScaler()\n",
    "scaler.fit(data_x.iloc[:,3:])\n",
    "data_x_scaled = scaler.transform(data_x.iloc[:,3:])\n",
    "data_x_scaled = pd.DataFrame(data_x_scaled)"
   ]
  },
  {
   "cell_type": "code",
   "execution_count": 12,
   "metadata": {},
   "outputs": [],
   "source": [
    "scaler = StandardScaler()\n",
    "scaler.fit(test_data.iloc[:,3:])\n",
    "test_data_scaled = scaler.transform(test_data.iloc[:,3:])\n",
    "test_data_scaled = pd.DataFrame(test_data_scaled)"
   ]
  },
  {
   "cell_type": "markdown",
   "metadata": {},
   "source": [
    "### Task 3 : Build Linear Regression Model"
   ]
  },
  {
   "cell_type": "markdown",
   "metadata": {},
   "source": [
    "#### For Democratic Party"
   ]
  },
  {
   "cell_type": "code",
   "execution_count": 13,
   "metadata": {},
   "outputs": [
    {
     "name": "stdout",
     "output_type": "stream",
     "text": [
      "[103624.81621321  -4266.71421325  -3820.7434915   -4479.42316769\n",
      "  -5484.01243206    413.41199685 -11448.16943487  -4760.86121281\n",
      "   -717.04138946   2886.76855164   5759.19791935 -24072.38083839\n",
      "  -3283.54262932]\n",
      "67233.13168724279\n"
     ]
    }
   ],
   "source": [
    "model = linear_model.LinearRegression()\n",
    "fitted_model = model.fit(X = demo_x_train_scaled, y = demo_y_train)\n",
    "print(fitted_model.coef_)\n",
    "print(fitted_model.intercept_)"
   ]
  },
  {
   "cell_type": "code",
   "execution_count": 14,
   "metadata": {},
   "outputs": [
    {
     "name": "stdout",
     "output_type": "stream",
     "text": [
      "[ 3.55345293e+04 -3.41035108e+02  2.89390534e+05  4.14102847e+04\n",
      "  3.00780006e+04  3.03459723e+04  1.25468324e+05  5.04936887e+04\n",
      "  8.70978445e+03  2.78846632e+04 -2.12333378e+02 -4.98143159e+03\n",
      "  2.99071080e+05  7.87689350e+04  2.11997955e+05  2.47360546e+03\n",
      " -1.13971996e+04 -1.11836045e+04  1.03623570e+05  1.02778385e+05]\n"
     ]
    }
   ],
   "source": [
    "predicted = fitted_model.predict(demo_x_val_scaled)\n",
    "print(predicted[:20])"
   ]
  },
  {
   "cell_type": "code",
   "execution_count": 15,
   "metadata": {},
   "outputs": [
    {
     "name": "stdout",
     "output_type": "stream",
     "text": [
      "0.9559842733712435\n",
      "0.9139059309331444\n",
      "0.8989330493563\n"
     ]
    }
   ],
   "source": [
    "corr_coef = np.corrcoef(predicted,demo_y_val)[1,0]\n",
    "print(corr_coef)\n",
    "R_squared = corr_coef ** 2\n",
    "print(R_squared)\n",
    "adj_R_squared =1 - (1 - R_squared)*(len(demo_y_val)-1)/(len(demo_y_val)-len(demo_x_train_scaled.columns-1))\n",
    "print(adj_R_squared)"
   ]
  },
  {
   "cell_type": "code",
   "execution_count": 16,
   "metadata": {},
   "outputs": [
    {
     "name": "stdout",
     "output_type": "stream",
     "text": [
      "0.9062568819285339\n",
      "0.8899537309595833\n"
     ]
    }
   ],
   "source": [
    "R_squared_ = fitted_model.score(X = demo_x_val_scaled, y = demo_y_val )\n",
    "print(R_squared_)\n",
    "adj_R_squared =1 - (1 - R_squared_)*(len(demo_y_val)-1)/(len(demo_y_val)-len(demo_x_train_scaled.columns-1))\n",
    "print(adj_R_squared)"
   ]
  },
  {
   "cell_type": "code",
   "execution_count": 17,
   "metadata": {},
   "outputs": [
    {
     "name": "stdout",
     "output_type": "stream",
     "text": [
      "43373.8217794965\n",
      "154265650092.28104\n",
      "1881288415.7595248\n",
      "43373.8217794965\n"
     ]
    }
   ],
   "source": [
    "rms = m.sqrt(mean_squared_error(demo_y_val, predicted))\n",
    "print(rms)\n",
    "print(((demo_y_val-predicted)**2).sum())   #rss\n",
    "print(np.mean((demo_y_val-predicted)**2))  #mse\n",
    "print(np.sqrt(np.mean((demo_y_val-predicted)**2)))"
   ]
  },
  {
   "cell_type": "markdown",
   "metadata": {},
   "source": [
    "#### Testing diffferent attributes"
   ]
  },
  {
   "cell_type": "code",
   "execution_count": 18,
   "metadata": {},
   "outputs": [],
   "source": [
    "cols = [0,1,3,6,7,8,10,11,12]"
   ]
  },
  {
   "cell_type": "code",
   "execution_count": 19,
   "metadata": {},
   "outputs": [
    {
     "name": "stdout",
     "output_type": "stream",
     "text": [
      "[102074.77007954  -2381.80053151  -4242.38643286 -10311.61012848\n",
      "  -4447.05377677  -2839.84893521   3614.61693955 -21598.7617853\n",
      "  -2195.3412144 ]\n",
      "67233.13168724279\n"
     ]
    }
   ],
   "source": [
    "model = linear_model.LinearRegression()\n",
    "fitted_model = model.fit(X = demo_x_train_scaled.iloc[:,cols], y = demo_y_train)\n",
    "print(fitted_model.coef_)\n",
    "print(fitted_model.intercept_)"
   ]
  },
  {
   "cell_type": "code",
   "execution_count": 20,
   "metadata": {},
   "outputs": [],
   "source": [
    "predicted = fitted_model.predict(demo_x_val_scaled.iloc[:, cols])"
   ]
  },
  {
   "cell_type": "code",
   "execution_count": 21,
   "metadata": {},
   "outputs": [
    {
     "name": "stdout",
     "output_type": "stream",
     "text": [
      "0.956610293742668\n",
      "0.9151032540944336\n",
      "0.9057995011184812\n"
     ]
    }
   ],
   "source": [
    "corr_coef = np.corrcoef(predicted,demo_y_val)[1,0]\n",
    "print(corr_coef)\n",
    "R_squared = corr_coef ** 2\n",
    "print(R_squared)\n",
    "adj_R_squared =1 - (1 - R_squared)*(len(demo_y_val)-1)/(len(demo_y_val)-len(demo_x_train_scaled.iloc[:, cols].columns-1))\n",
    "print(adj_R_squared)"
   ]
  },
  {
   "cell_type": "code",
   "execution_count": 22,
   "metadata": {},
   "outputs": [
    {
     "name": "stdout",
     "output_type": "stream",
     "text": [
      "0.9062548159110984\n",
      "0.8945366678999856\n"
     ]
    }
   ],
   "source": [
    "R_squared_ = fitted_model.score(X = demo_x_val_scaled.iloc[:,cols], y = demo_y_val )\n",
    "print(R_squared_)\n",
    "adj_R_squared =1 - (1 - R_squared_)*(len(demo_y_val)-1)/(len(demo_y_val)-len(demo_x_train_scaled.iloc[:,cols].columns)-1)\n",
    "print(adj_R_squared)"
   ]
  },
  {
   "cell_type": "code",
   "execution_count": 23,
   "metadata": {},
   "outputs": [
    {
     "name": "stdout",
     "output_type": "stream",
     "text": [
      "[103623.97434884  -4254.43816627  -3809.80303354  -4469.69192891\n",
      "  -5476.05800857    411.04272432 -11433.03597548  -4751.13757419\n",
      "   -708.99432655   2890.89083273   5750.10989291 -24061.30087688\n",
      "  -3277.41195905]\n",
      "0.9559874900128552\n",
      "0.9139120810610789\n"
     ]
    }
   ],
   "source": [
    "model = linear_model.Lasso(alpha = 1)\n",
    "fitted_model = model.fit(X = demo_x_train_scaled, y = demo_y_train)\n",
    "predicted = fitted_model.predict(demo_x_val_scaled)\n",
    "print(fitted_model.coef_)\n",
    "corr_coef = np.corrcoef(predicted, demo_y_val)[1, 0]\n",
    "print(corr_coef)\n",
    "R_squared = corr_coef**2\n",
    "print(R_squared)"
   ]
  },
  {
   "cell_type": "code",
   "execution_count": 24,
   "metadata": {},
   "outputs": [
    {
     "name": "stdout",
     "output_type": "stream",
     "text": [
      "43372.444133994126\n",
      "154255850632.82822\n",
      "1881168910.1564417\n",
      "43372.444133994126\n"
     ]
    }
   ],
   "source": [
    "rms = m.sqrt(mean_squared_error(demo_y_val, predicted))\n",
    "print(rms)\n",
    "print(((demo_y_val-predicted)**2).sum())   #rss\n",
    "print(np.mean((demo_y_val-predicted)**2))  #mse\n",
    "print(np.sqrt(np.mean((demo_y_val-predicted)**2)))"
   ]
  },
  {
   "cell_type": "code",
   "execution_count": 25,
   "metadata": {},
   "outputs": [],
   "source": [
    "#demo_x_train_scaled.head()"
   ]
  },
  {
   "cell_type": "code",
   "execution_count": 26,
   "metadata": {},
   "outputs": [
    {
     "data": {
      "text/plain": [
       "Total Population                         274659.238683\n",
       "Percent White, not Hispanic or Latino        70.684327\n",
       "Percent Black, not Hispanic or Latino         9.557471\n",
       "Percent Hispanic or Latino                   10.632678\n",
       "Percent Foreign Born                          7.199469\n",
       "Percent Female                               50.398727\n",
       "Percent Age 29 and Under                     38.759771\n",
       "Percent Age 65 and Older                     16.271177\n",
       "Median Household Income                   53588.407407\n",
       "Percent Unemployed                            6.863873\n",
       "Percent Less than High School Degree         11.679167\n",
       "Percent Less than Bachelor's Degree          72.279062\n",
       "Percent Rural                                37.611821\n",
       "dtype: float64"
      ]
     },
     "execution_count": 26,
     "metadata": {},
     "output_type": "execute_result"
    }
   ],
   "source": [
    "demo_x_train.iloc[:,3:].mean()"
   ]
  },
  {
   "cell_type": "markdown",
   "metadata": {},
   "source": [
    "#### For Republic Party"
   ]
  },
  {
   "cell_type": "code",
   "execution_count": 27,
   "metadata": {},
   "outputs": [
    {
     "name": "stdout",
     "output_type": "stream",
     "text": [
      "[20959.79427444  1073.48906332    26.5507054    519.20511435\n",
      "   160.1325564   -219.55535432  -795.00206857  1142.94276452\n",
      "  1519.76548773   409.04285069   625.62619945  -589.5266056\n",
      "  -282.89398987]\n",
      "12655.983128834358\n"
     ]
    }
   ],
   "source": [
    "model = linear_model.LinearRegression()\n",
    "fitted_model = model.fit(X = repub_x_train_scaled, y = repub_y_train)\n",
    "print(fitted_model.coef_)\n",
    "print(fitted_model.intercept_)"
   ]
  },
  {
   "cell_type": "code",
   "execution_count": 28,
   "metadata": {},
   "outputs": [
    {
     "name": "stdout",
     "output_type": "stream",
     "text": [
      "[10845.75805198 24983.35644565 35797.76474502  2213.69567533\n",
      "  1113.58400542]\n"
     ]
    }
   ],
   "source": [
    "predicted = fitted_model.predict(repub_x_val_scaled)\n",
    "print(predicted[:5])"
   ]
  },
  {
   "cell_type": "code",
   "execution_count": 29,
   "metadata": {},
   "outputs": [
    {
     "name": "stdout",
     "output_type": "stream",
     "text": [
      "0.9827560742690562\n",
      "0.9658095015127267\n",
      "0.9638081064793254\n"
     ]
    }
   ],
   "source": [
    "corr_coef = np.corrcoef(predicted,repub_y_val)[1,0]\n",
    "print(corr_coef)\n",
    "R_squared = corr_coef ** 2\n",
    "print(R_squared)\n",
    "adj_R_squared =1 - (1 - R_squared)*(len(repub_y_val)-1)/(len(repub_y_val)-len(repub_x_train_scaled.columns-1))\n",
    "print(adj_R_squared)"
   ]
  },
  {
   "cell_type": "code",
   "execution_count": 30,
   "metadata": {},
   "outputs": [
    {
     "name": "stdout",
     "output_type": "stream",
     "text": [
      "0.956582314849456\n",
      "0.9540407918162535\n"
     ]
    }
   ],
   "source": [
    "R_squared_ = fitted_model.score(X = repub_x_val_scaled, y = repub_y_val )\n",
    "print(R_squared_)\n",
    "adj_R_squared =1 - (1 - R_squared_)*(len(repub_y_val)-1)/(len(repub_y_val)-len(repub_x_train_scaled.columns-1))\n",
    "print(adj_R_squared)"
   ]
  },
  {
   "cell_type": "code",
   "execution_count": 31,
   "metadata": {},
   "outputs": [
    {
     "name": "stdout",
     "output_type": "stream",
     "text": [
      "5032.5002019522135\n"
     ]
    }
   ],
   "source": [
    "rms = m.sqrt(mean_squared_error(repub_y_val, predicted))\n",
    "print(rms)"
   ]
  },
  {
   "cell_type": "code",
   "execution_count": 32,
   "metadata": {},
   "outputs": [
    {
     "name": "stdout",
     "output_type": "stream",
     "text": [
      "[21018.11253873   725.86761074   295.64110363  -934.89463146\n",
      "  1032.36518771  1434.13483374   745.1477571   -510.04115938\n",
      "  -345.71636508]\n",
      "12655.983128834358\n"
     ]
    }
   ],
   "source": [
    "model = linear_model.LinearRegression()\n",
    "fitted_model = model.fit(X = repub_x_train_scaled.iloc[:,cols], y = repub_y_train)\n",
    "print(fitted_model.coef_)\n",
    "print(fitted_model.intercept_)"
   ]
  },
  {
   "cell_type": "code",
   "execution_count": 33,
   "metadata": {},
   "outputs": [],
   "source": [
    "predicted = fitted_model.predict(repub_x_val_scaled.iloc[:, cols])"
   ]
  },
  {
   "cell_type": "code",
   "execution_count": 34,
   "metadata": {},
   "outputs": [
    {
     "name": "stdout",
     "output_type": "stream",
     "text": [
      "0.9825096087173947\n",
      "0.965325131222008\n",
      "0.9639978635175873\n"
     ]
    }
   ],
   "source": [
    "corr_coef = np.corrcoef(predicted,repub_y_val)[1,0]\n",
    "print(corr_coef)\n",
    "R_squared = corr_coef ** 2\n",
    "print(R_squared)\n",
    "adj_R_squared =1 - (1 - R_squared)*(len(repub_y_val)-1)/(len(repub_y_val)-len(repub_x_train_scaled.iloc[:, cols].columns-1))\n",
    "print(adj_R_squared)"
   ]
  },
  {
   "cell_type": "code",
   "execution_count": 35,
   "metadata": {},
   "outputs": [
    {
     "name": "stdout",
     "output_type": "stream",
     "text": [
      "0.9559605122178177\n",
      "0.9540549574580118\n"
     ]
    }
   ],
   "source": [
    "R_squared_ = fitted_model.score(X = repub_x_val_scaled.iloc[:,cols], y = repub_y_val)\n",
    "print(R_squared_)\n",
    "adj_R_squared =1 - (1 - R_squared_)*(len(repub_y_val)-1)/(len(repub_y_val)-len(repub_x_train_scaled.iloc[:,cols].columns)-1)\n",
    "print(adj_R_squared)"
   ]
  },
  {
   "cell_type": "code",
   "execution_count": 36,
   "metadata": {},
   "outputs": [
    {
     "name": "stdout",
     "output_type": "stream",
     "text": [
      "5068.408353824111\n",
      "5600150386.5628605\n",
      "25688763.241114035\n",
      "5068.408353824111\n"
     ]
    }
   ],
   "source": [
    "rms = m.sqrt(mean_squared_error(repub_y_val, predicted))\n",
    "print(rms)\n",
    "print(((repub_y_val-predicted)**2).sum())   #rss\n",
    "print(np.mean((repub_y_val-predicted)**2))  #mse\n",
    "print(np.sqrt(np.mean((repub_y_val-predicted)**2)))"
   ]
  },
  {
   "cell_type": "markdown",
   "metadata": {},
   "source": [
    "### Task 4 : Build Classification Model"
   ]
  },
  {
   "cell_type": "markdown",
   "metadata": {},
   "source": [
    "#### k Nearest"
   ]
  },
  {
   "cell_type": "code",
   "execution_count": 861,
   "metadata": {},
   "outputs": [
    {
     "data": {
      "text/plain": [
       "KNeighborsClassifier(algorithm='auto', leaf_size=30, metric='minkowski',\n",
       "                     metric_params=None, n_jobs=None, n_neighbors=11, p=2,\n",
       "                     weights='distance')"
      ]
     },
     "execution_count": 861,
     "metadata": {},
     "output_type": "execute_result"
    }
   ],
   "source": [
    "classifier = KNeighborsClassifier(n_neighbors = 11, weights ='distance')  \n",
    "classifier.fit(x_train_scaled,y_train)"
   ]
  },
  {
   "cell_type": "code",
   "execution_count": 862,
   "metadata": {},
   "outputs": [],
   "source": [
    "y_pred = classifier.predict(x_val_scaled)"
   ]
  },
  {
   "cell_type": "code",
   "execution_count": 863,
   "metadata": {},
   "outputs": [
    {
     "name": "stdout",
     "output_type": "stream",
     "text": [
      "[[211  11]\n",
      " [ 42  35]]\n"
     ]
    },
    {
     "data": {
      "image/png": "[encoded data removed]",
      "text/plain": [
       "<Figure size 432x288 with 2 Axes>"
      ]
     },
     "metadata": {
      "needs_background": "light"
     },
     "output_type": "display_data"
    }
   ],
   "source": [
    "conf_matrix = metrics.confusion_matrix(y_val,y_pred)\n",
    "sns.heatmap(conf_matrix, annot = True, fmt = \".2f\", square = True, cmap = plt.cm.Blues)\n",
    "plt.ylabel('Actual')\n",
    "plt.xlabel('Predicted')\n",
    "plt.title('Confusion matrix')\n",
    "plt.tight_layout()\n",
    "print(conf_matrix)"
   ]
  },
  {
   "cell_type": "code",
   "execution_count": 864,
   "metadata": {},
   "outputs": [
    {
     "name": "stdout",
     "output_type": "stream",
     "text": [
      "[0.822742474916388, 0.17725752508361203, array([0.83399209, 0.76086957]), array([0.95045045, 0.45454545]), array([0.88842105, 0.56910569])]\n"
     ]
    }
   ],
   "source": [
    "accuracy = metrics.accuracy_score(y_val,y_pred)\n",
    "error = 1 - accuracy\n",
    "precision = metrics.precision_score(y_val, y_pred, average = None)\n",
    "recall = metrics.recall_score(y_val, y_pred, average = None)\n",
    "F1_score = metrics.f1_score(y_val, y_pred, average = None)\n",
    "print([accuracy, error, precision, recall, F1_score])"
   ]
  },
  {
   "cell_type": "code",
   "execution_count": 916,
   "metadata": {},
   "outputs": [
    {
     "name": "stdout",
     "output_type": "stream",
     "text": [
      "[1, 0.7692307692307693, 0.23076923076923073, array([0.83406114, 0.55714286]), array([0.86036036, 0.50649351]), array([0.84700665, 0.53061224])]\n",
      "[2, 0.7692307692307693, 0.23076923076923073, array([0.83406114, 0.55714286]), array([0.86036036, 0.50649351]), array([0.84700665, 0.53061224])]\n",
      "[3, 0.8193979933110368, 0.1806020066889632, array([0.836     , 0.73469388]), array([0.94144144, 0.46753247]), array([0.88559322, 0.57142857])]\n",
      "[4, 0.802675585284281, 0.19732441471571904, array([0.83265306, 0.66666667]), array([0.91891892, 0.46753247]), array([0.87366167, 0.54961832])]\n",
      "[5, 0.8093645484949833, 0.1906354515050167, array([0.83673469, 0.68518519]), array([0.92342342, 0.48051948]), array([0.87794433, 0.5648855 ])]\n",
      "[6, 0.8160535117056856, 0.18394648829431437, array([0.83805668, 0.71153846]), array([0.93243243, 0.48051948]), array([0.88272921, 0.57364341])]\n",
      "[7, 0.8260869565217391, 0.17391304347826086, array([0.84274194, 0.74509804]), array([0.94144144, 0.49350649]), array([0.8893617, 0.59375  ])]\n",
      "[8, 0.842809364548495, 0.15719063545150502, array([0.84860558, 0.8125    ]), array([0.95945946, 0.50649351]), array([0.90063425, 0.624     ])]\n",
      "[9, 0.8561872909698997, 0.14381270903010035, array([0.85657371, 0.85416667]), array([0.96846847, 0.53246753]), array([0.90909091, 0.656     ])]\n",
      "[10, 0.8394648829431438, 0.1605351170568562, array([0.8452381 , 0.80851064]), array([0.95945946, 0.49350649]), array([0.89873418, 0.61290323])]\n",
      "[11, 0.8461538461538461, 0.15384615384615385, array([0.852     , 0.81632653]), array([0.95945946, 0.51948052]), array([0.90254237, 0.63492063])]\n",
      "[12, 0.8394648829431438, 0.1605351170568562, array([0.8452381 , 0.80851064]), array([0.95945946, 0.49350649]), array([0.89873418, 0.61290323])]\n",
      "[13, 0.842809364548495, 0.15719063545150502, array([0.8458498 , 0.82608696]), array([0.96396396, 0.49350649]), array([0.90105263, 0.61788618])]\n",
      "[14, 0.842809364548495, 0.15719063545150502, array([0.84860558, 0.8125    ]), array([0.95945946, 0.50649351]), array([0.90063425, 0.624     ])]\n",
      "[15, 0.842809364548495, 0.15719063545150502, array([0.8458498 , 0.82608696]), array([0.96396396, 0.49350649]), array([0.90105263, 0.61788618])]\n",
      "[16, 0.8394648829431438, 0.1605351170568562, array([0.83984375, 0.8372093 ]), array([0.96846847, 0.46753247]), array([0.89958159, 0.6       ])]\n",
      "[17, 0.842809364548495, 0.15719063545150502, array([0.84313725, 0.84090909]), array([0.96846847, 0.48051948]), array([0.90146751, 0.61157025])]\n",
      "[18, 0.8394648829431438, 0.1605351170568562, array([0.83984375, 0.8372093 ]), array([0.96846847, 0.46753247]), array([0.89958159, 0.6       ])]\n",
      "[19, 0.8294314381270903, 0.1705685618729097, array([0.83794466, 0.7826087 ]), array([0.95495495, 0.46753247]), array([0.89263158, 0.58536585])]\n"
     ]
    }
   ],
   "source": [
    "cols = [3,5,6,7,8,9,11,12]\n",
    "for i in range(1,20):\n",
    "    classifier = KNeighborsClassifier(n_neighbors = i,weights='distance')  \n",
    "    classifier.fit(x_train_scaled.iloc[:,cols],y_train)\n",
    "    y_pred = classifier.predict(x_val_scaled.iloc[:,cols])\n",
    "    accuracy = metrics.accuracy_score(y_val,y_pred)\n",
    "    error = 1 - accuracy\n",
    "    precision = metrics.precision_score(y_val, y_pred, average = None)\n",
    "    recall = metrics.recall_score(y_val, y_pred, average = None)\n",
    "    F1_score = metrics.f1_score(y_val, y_pred, average = None)\n",
    "    print([i,accuracy, error, precision, recall, F1_score])\n"
   ]
  },
  {
   "cell_type": "markdown",
   "metadata": {},
   "source": [
    "#### Testing different attributes"
   ]
  },
  {
   "cell_type": "code",
   "execution_count": 887,
   "metadata": {},
   "outputs": [],
   "source": [
    "cols = [3,5,6,7,8,9,11,12]"
   ]
  },
  {
   "cell_type": "code",
   "execution_count": 888,
   "metadata": {},
   "outputs": [
    {
     "data": {
      "text/plain": [
       "KNeighborsClassifier(algorithm='auto', leaf_size=30, metric='minkowski',\n",
       "                     metric_params=None, n_jobs=None, n_neighbors=11, p=2,\n",
       "                     weights='uniform')"
      ]
     },
     "execution_count": 888,
     "metadata": {},
     "output_type": "execute_result"
    }
   ],
   "source": [
    "classifier = KNeighborsClassifier(n_neighbors = 11)  \n",
    "classifier.fit(x_train_scaled.iloc[:,cols],y_train)"
   ]
  },
  {
   "cell_type": "code",
   "execution_count": 889,
   "metadata": {},
   "outputs": [],
   "source": [
    "y_pred = classifier.predict(x_val_scaled.iloc[:,cols])"
   ]
  },
  {
   "cell_type": "code",
   "execution_count": 890,
   "metadata": {},
   "outputs": [
    {
     "name": "stdout",
     "output_type": "stream",
     "text": [
      "[0.8461538461538461, 0.15384615384615385, array([0.84920635, 0.82978723]), array([0.96396396, 0.50649351]), array([0.90295359, 0.62903226])]\n"
     ]
    }
   ],
   "source": [
    "accuracy = metrics.accuracy_score(y_val,y_pred)\n",
    "error = 1 - accuracy\n",
    "precision = metrics.precision_score(y_val, y_pred, average = None)\n",
    "recall = metrics.recall_score(y_val, y_pred, average = None)\n",
    "F1_score = metrics.f1_score(y_val, y_pred, average = None)\n",
    "print([accuracy, error, precision, recall, F1_score])"
   ]
  },
  {
   "cell_type": "code",
   "execution_count": 526,
   "metadata": {},
   "outputs": [
    {
     "name": "stdout",
     "output_type": "stream",
     "text": [
      "[[212  10]\n",
      " [ 36  41]]\n"
     ]
    },
    {
     "data": {
      "image/png": "[encoded data removed]",
      "text/plain": [
       "<Figure size 432x288 with 2 Axes>"
      ]
     },
     "metadata": {
      "needs_background": "light"
     },
     "output_type": "display_data"
    }
   ],
   "source": [
    "conf_matrix = metrics.confusion_matrix(y_val,y_pred)\n",
    "sns.heatmap(conf_matrix, annot = True, fmt = \".2f\", square = True, cmap = plt.cm.Blues)\n",
    "plt.ylabel('Actual')\n",
    "plt.xlabel('Predicted')\n",
    "plt.title('Confusion matrix')\n",
    "plt.tight_layout()\n",
    "print(conf_matrix)"
   ]
  },
  {
   "cell_type": "markdown",
   "metadata": {},
   "source": [
    "#### SVM"
   ]
  },
  {
   "cell_type": "code",
   "execution_count": 410,
   "metadata": {},
   "outputs": [
    {
     "data": {
      "text/plain": [
       "SVC(C=1.0, cache_size=200, class_weight=None, coef0=0.0,\n",
       "    decision_function_shape='ovr', degree=3, gamma='auto', kernel='rbf',\n",
       "    max_iter=-1, probability=False, random_state=None, shrinking=True,\n",
       "    tol=0.001, verbose=False)"
      ]
     },
     "execution_count": 410,
     "metadata": {},
     "output_type": "execute_result"
    }
   ],
   "source": [
    "classifier = SVC(kernel = 'rbf', gamma = 'auto')  \n",
    "classifier.fit(x_train_scaled,y_train)"
   ]
  },
  {
   "cell_type": "code",
   "execution_count": 411,
   "metadata": {},
   "outputs": [],
   "source": [
    "y_pred = classifier.predict(x_val_scaled)"
   ]
  },
  {
   "cell_type": "code",
   "execution_count": 412,
   "metadata": {},
   "outputs": [
    {
     "name": "stdout",
     "output_type": "stream",
     "text": [
      "[[216   6]\n",
      " [ 37  40]]\n"
     ]
    },
    {
     "data": {
      "image/png": "[encoded data removed]",
      "text/plain": [
       "<Figure size 432x288 with 2 Axes>"
      ]
     },
     "metadata": {
      "needs_background": "light"
     },
     "output_type": "display_data"
    }
   ],
   "source": [
    "conf_matrix = metrics.confusion_matrix(y_val,y_pred)\n",
    "sns.heatmap(conf_matrix, annot = True, fmt = \".2f\", square = True, cmap = plt.cm.Blues)\n",
    "plt.ylabel('Actual')\n",
    "plt.xlabel('Predicted')\n",
    "plt.title('Confusion matrix')\n",
    "plt.tight_layout()\n",
    "print(conf_matrix)"
   ]
  },
  {
   "cell_type": "code",
   "execution_count": 413,
   "metadata": {},
   "outputs": [
    {
     "name": "stdout",
     "output_type": "stream",
     "text": [
      "[0.8561872909698997, 0.14381270903010035, array([0.85375494, 0.86956522]), array([0.97297297, 0.51948052]), array([0.90947368, 0.6504065 ])]\n"
     ]
    }
   ],
   "source": [
    "accuracy = metrics.accuracy_score(y_val,y_pred)\n",
    "error = 1 - accuracy\n",
    "precision = metrics.precision_score(y_val, y_pred, average = None)\n",
    "recall = metrics.recall_score(y_val, y_pred, average = None)\n",
    "F1_score = metrics.f1_score(y_val, y_pred, average = None)\n",
    "print([accuracy, error, precision, recall, F1_score])"
   ]
  },
  {
   "cell_type": "markdown",
   "metadata": {},
   "source": [
    "#### Testing different attributes"
   ]
  },
  {
   "cell_type": "code",
   "execution_count": 773,
   "metadata": {},
   "outputs": [],
   "source": [
    "cols = [2,3,6,7,8,9,11,12]"
   ]
  },
  {
   "cell_type": "code",
   "execution_count": 774,
   "metadata": {
    "scrolled": true
   },
   "outputs": [
    {
     "data": {
      "text/plain": [
       "SVC(C=1.0, cache_size=200, class_weight=None, coef0=0.0,\n",
       "    decision_function_shape='ovr', degree=3, gamma='auto', kernel='rbf',\n",
       "    max_iter=-1, probability=False, random_state=None, shrinking=True,\n",
       "    tol=0.001, verbose=False)"
      ]
     },
     "execution_count": 774,
     "metadata": {},
     "output_type": "execute_result"
    }
   ],
   "source": [
    "classifier = SVC(kernel = 'rbf', gamma = 'auto')  \n",
    "classifier.fit(x_train_scaled.iloc[:,cols],y_train)"
   ]
  },
  {
   "cell_type": "code",
   "execution_count": 775,
   "metadata": {},
   "outputs": [],
   "source": [
    "y_pred = classifier.predict(x_val_scaled.iloc[:,cols])"
   ]
  },
  {
   "cell_type": "code",
   "execution_count": 776,
   "metadata": {},
   "outputs": [
    {
     "name": "stdout",
     "output_type": "stream",
     "text": [
      "[0.8561872909698997, 0.14381270903010035, array([0.85943775, 0.84      ]), array([0.96396396, 0.54545455]), array([0.90870488, 0.66141732])]\n"
     ]
    }
   ],
   "source": [
    "accuracy = metrics.accuracy_score(y_val,y_pred)\n",
    "error = 1 - accuracy\n",
    "precision = metrics.precision_score(y_val, y_pred, average = None)\n",
    "recall = metrics.recall_score(y_val, y_pred, average = None)\n",
    "F1_score = metrics.f1_score(y_val, y_pred, average = None)\n",
    "print([accuracy, error, precision, recall, F1_score])"
   ]
  },
  {
   "cell_type": "code",
   "execution_count": 706,
   "metadata": {},
   "outputs": [
    {
     "name": "stdout",
     "output_type": "stream",
     "text": [
      "[[210  12]\n",
      " [ 44  33]]\n"
     ]
    },
    {
     "data": {
      "image/png": "[encoded data removed]",
      "text/plain": [
       "<Figure size 432x288 with 2 Axes>"
      ]
     },
     "metadata": {
      "needs_background": "light"
     },
     "output_type": "display_data"
    }
   ],
   "source": [
    "conf_matrix = metrics.confusion_matrix(y_val,y_pred)\n",
    "sns.heatmap(conf_matrix, annot = True, fmt = \".2f\", square = True, cmap = plt.cm.Blues)\n",
    "plt.ylabel('Actual')\n",
    "plt.xlabel('Predicted')\n",
    "plt.title('Confusion matrix')\n",
    "plt.tight_layout()\n",
    "print(conf_matrix)"
   ]
  },
  {
   "cell_type": "markdown",
   "metadata": {},
   "source": [
    "## Task 4 : Build Clustering model"
   ]
  },
  {
   "cell_type": "markdown",
   "metadata": {},
   "source": [
    "### K Means"
   ]
  },
  {
   "cell_type": "code",
   "execution_count": 1174,
   "metadata": {},
   "outputs": [
    {
     "data": {
      "text/plain": [
       "1195"
      ]
     },
     "execution_count": 1174,
     "metadata": {},
     "output_type": "execute_result"
    }
   ],
   "source": [
    "cols = [2,4,7,8,11,10]\n",
    "clustering = KMeans(n_clusters = 2,init = 'random',n_init = 10, random_state = 0).fit(data_x_scaled.iloc[:,cols])\n",
    "clusters = clustering.labels_\n",
    "len(clusters)"
   ]
  },
  {
   "cell_type": "code",
   "execution_count": 1175,
   "metadata": {},
   "outputs": [
    {
     "name": "stdout",
     "output_type": "stream",
     "text": [
      "[0.2712192205336508, 0.3329964236009124]\n"
     ]
    }
   ],
   "source": [
    "adjusted_rand_index = metrics.adjusted_rand_score(data_y,clusters)\n",
    "silhouette_coefficient = metrics.silhouette_score(data_x_scaled.iloc[:,cols],clusters)\n",
    "print([adjusted_rand_index, silhouette_coefficient])"
   ]
  },
  {
   "cell_type": "code",
   "execution_count": 1161,
   "metadata": {},
   "outputs": [
    {
     "name": "stdout",
     "output_type": "stream",
     "text": [
      "[[773 159]\n",
      " [ 97 166]]\n"
     ]
    },
    {
     "data": {
      "image/png": "[encoded data removed]",
      "text/plain": [
       "<Figure size 432x288 with 2 Axes>"
      ]
     },
     "metadata": {
      "needs_background": "light"
     },
     "output_type": "display_data"
    }
   ],
   "source": [
    "cont_matrix = metrics.cluster.contingency_matrix(clusters, data_y)\n",
    "sns.heatmap(cont_matrix, annot = True, fmt = \".3f\", square = True, cmap = plt.cm.Blues)\n",
    "plt.ylabel('Actual')\n",
    "plt.xlabel('Predicted')\n",
    "plt.title('Contingency matrix')\n",
    "plt.tight_layout()\n",
    "print(cont_matrix)"
   ]
  },
  {
   "cell_type": "code",
   "execution_count": null,
   "metadata": {},
   "outputs": [],
   "source": [
    "# Plot clusters found using K-Means clustering\n",
    "x_train['clusters'] = clusters\n",
    "ax = x_train.plot(kind = 'scatter', x = 'Total charge', y = 'International plan', c = 'clusters', colormap = plt.cm.brg)\n",
    "ax = x_train.plot(kind = 'scatter', x = 'Total charge', y = 'Customer service calls', c = 'clusters', colormap = plt.cm.brg)\n",
    "# ax.set(title = 'iris data', xlabel = 'petal width', ylabel = 'petal length')"
   ]
  },
  {
   "cell_type": "code",
   "execution_count": 1176,
   "metadata": {},
   "outputs": [
    {
     "name": "stdout",
     "output_type": "stream",
     "text": [
      "[[771 161]\n",
      " [ 99 164]]\n"
     ]
    },
    {
     "data": {
      "image/png": "[encoded data removed]",
      "text/plain": [
       "<Figure size 432x288 with 2 Axes>"
      ]
     },
     "metadata": {
      "needs_background": "light"
     },
     "output_type": "display_data"
    }
   ],
   "source": [
    "cont_matrix = metrics.cluster.contingency_matrix(clusters,data_y)\n",
    "sns.heatmap(cont_matrix, annot = True, fmt = \".3f\", square = True, cmap = plt.cm.Blues)\n",
    "plt.ylabel('Actual')\n",
    "plt.xlabel('Predicted')\n",
    "plt.title('Contingency matrix')\n",
    "plt.tight_layout()\n",
    "print(cont_matrix)"
   ]
  },
  {
   "cell_type": "code",
   "execution_count": null,
   "metadata": {},
   "outputs": [],
   "source": []
  },
  {
   "cell_type": "markdown",
   "metadata": {},
   "source": [
    "### Hierarchical clustering complete linking"
   ]
  },
  {
   "cell_type": "code",
   "execution_count": 930,
   "metadata": {},
   "outputs": [],
   "source": [
    "clustering = linkage(data_x_scaled,method='complete', metric='euclidean')\n",
    "clusters = fcluster(clustering, 2, criterion = 'maxclust')"
   ]
  },
  {
   "cell_type": "code",
   "execution_count": 934,
   "metadata": {},
   "outputs": [
    {
     "name": "stdout",
     "output_type": "stream",
     "text": [
      "[0.016835428116791826, 0.6180072991309411]\n"
     ]
    }
   ],
   "source": [
    "adjusted_rand_index = metrics.adjusted_rand_score(data_y,clusters)\n",
    "silhouette_coefficient = metrics.silhouette_score(data_x_scaled,clusters)\n",
    "print([adjusted_rand_index, silhouette_coefficient])"
   ]
  },
  {
   "cell_type": "code",
   "execution_count": 935,
   "metadata": {},
   "outputs": [
    {
     "name": "stdout",
     "output_type": "stream",
     "text": [
      "[[  0   6]\n",
      " [870 319]]\n"
     ]
    },
    {
     "data": {
      "image/png": "[encoded data removed]",
      "text/plain": [
       "<Figure size 432x288 with 2 Axes>"
      ]
     },
     "metadata": {
      "needs_background": "light"
     },
     "output_type": "display_data"
    }
   ],
   "source": [
    "cont_matrix = metrics.cluster.contingency_matrix(clusters,data_y)\n",
    "sns.heatmap(cont_matrix, annot = True, fmt = \".3f\", square = True, cmap = plt.cm.Blues)\n",
    "plt.ylabel('Actual')\n",
    "plt.xlabel('Predicted')\n",
    "plt.title('Contingency matrix')\n",
    "plt.tight_layout()\n",
    "print(cont_matrix)"
   ]
  },
  {
   "cell_type": "code",
   "execution_count": null,
   "metadata": {},
   "outputs": [],
   "source": []
  },
  {
   "cell_type": "markdown",
   "metadata": {},
   "source": [
    "### Hierarchical clustering single linking"
   ]
  },
  {
   "cell_type": "code",
   "execution_count": 937,
   "metadata": {},
   "outputs": [],
   "source": [
    "clustering = linkage(data_x_scaled,method='single', metric='euclidean')\n",
    "clusters = fcluster(clustering, 2, criterion = 'maxclust')"
   ]
  },
  {
   "cell_type": "code",
   "execution_count": 938,
   "metadata": {},
   "outputs": [
    {
     "name": "stdout",
     "output_type": "stream",
     "text": [
      "[-0.001047512629882871, 0.6487451770620387]\n"
     ]
    }
   ],
   "source": [
    "adjusted_rand_index = metrics.adjusted_rand_score(data_y,clusters)\n",
    "silhouette_coefficient = metrics.silhouette_score(data_x_scaled,clusters)\n",
    "print([adjusted_rand_index, silhouette_coefficient])"
   ]
  },
  {
   "cell_type": "code",
   "execution_count": 939,
   "metadata": {},
   "outputs": [
    {
     "name": "stdout",
     "output_type": "stream",
     "text": [
      "[[869 325]\n",
      " [  1   0]]\n"
     ]
    },
    {
     "data": {
      "image/png": "[encoded data removed]",
      "text/plain": [
       "<Figure size 432x288 with 2 Axes>"
      ]
     },
     "metadata": {
      "needs_background": "light"
     },
     "output_type": "display_data"
    }
   ],
   "source": [
    "cont_matrix = metrics.cluster.contingency_matrix(clusters,data_y)\n",
    "sns.heatmap(cont_matrix, annot = True, fmt = \".3f\", square = True, cmap = plt.cm.Blues)\n",
    "plt.ylabel('Actual')\n",
    "plt.xlabel('Predicted')\n",
    "plt.title('Contingency matrix')\n",
    "plt.tight_layout()\n",
    "print(cont_matrix)"
   ]
  },
  {
   "cell_type": "markdown",
   "metadata": {},
   "source": [
    "### DBSCAN"
   ]
  },
  {
   "cell_type": "code",
   "execution_count": null,
   "metadata": {},
   "outputs": [],
   "source": [
    "clustering = DBSCAN(eps = 2, min_samples = 5, metric='euclidean').fit(data_x_scaled)\n",
    "clusters = clustering.labels_"
   ]
  },
  {
   "cell_type": "code",
   "execution_count": 940,
   "metadata": {},
   "outputs": [
    {
     "name": "stdout",
     "output_type": "stream",
     "text": [
      "[-0.001047512629882871, 0.6487451770620387]\n"
     ]
    }
   ],
   "source": [
    "adjusted_rand_index = metrics.adjusted_rand_score(data_y,clusters)\n",
    "silhouette_coefficient = metrics.silhouette_score(data_x_scaled,clusters)\n",
    "print([adjusted_rand_index, silhouette_coefficient])"
   ]
  },
  {
   "cell_type": "code",
   "execution_count": 941,
   "metadata": {},
   "outputs": [
    {
     "name": "stdout",
     "output_type": "stream",
     "text": [
      "[[869 325]\n",
      " [  1   0]]\n"
     ]
    },
    {
     "data": {
      "image/png": "[encoded data removed]",
      "text/plain": [
       "<Figure size 432x288 with 2 Axes>"
      ]
     },
     "metadata": {
      "needs_background": "light"
     },
     "output_type": "display_data"
    }
   ],
   "source": [
    "cont_matrix = metrics.cluster.contingency_matrix(clusters,data_y)\n",
    "sns.heatmap(cont_matrix, annot = True, fmt = \".3f\", square = True, cmap = plt.cm.Blues)\n",
    "plt.ylabel('Actual')\n",
    "plt.xlabel('Predicted')\n",
    "plt.title('Contingency matrix')\n",
    "plt.tight_layout()\n",
    "print(cont_matrix)"
   ]
  },
  {
   "cell_type": "code",
   "execution_count": null,
   "metadata": {},
   "outputs": [],
   "source": []
  }
 ],
 "metadata": {
  "kernelspec": {
   "display_name": "Python 3",
   "language": "python",
   "name": "python3"
  },
  "language_info": {
   "codemirror_mode": {
    "name": "ipython",
    "version": 3
   },
   "file_extension": ".py",
   "mimetype": "text/x-python",
   "name": "python",
   "nbconvert_exporter": "python",
   "pygments_lexer": "ipython3",
   "version": "3.7.3"
  }
 },
 "nbformat": 4,
 "nbformat_minor": 4
}
