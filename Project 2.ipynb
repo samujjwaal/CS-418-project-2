{
 "cells": [
  {
   "cell_type": "markdown",
   "metadata": {},
   "source": [
    "# Project 2"
   ]
  },
  {
   "cell_type": "code",
   "execution_count": 26,
   "metadata": {},
   "outputs": [],
   "source": [
    "import pandas as pd\n",
    "import numpy as np\n",
    "import math as m\n",
    "import matplotlib.pyplot as plt\n",
    "import seaborn as sns\n",
    "import scipy.stats as st\n",
    "import plotly.figure_factory as ff\n",
    "from sklearn.model_selection import train_test_split, KFold, cross_val_score\n",
    "from sklearn.preprocessing import StandardScaler\n",
    "from sklearn import linear_model\n",
    "from sklearn.pipeline import Pipeline\n",
    "from sklearn import metrics\n",
    "from sklearn.metrics import mean_squared_error\n",
    "from sklearn.tree import DecisionTreeClassifier\n",
    "from sklearn.neighbors import KNeighborsClassifier \n",
    "from sklearn.naive_bayes import GaussianNB\n",
    "from sklearn.svm import SVC"
   ]
  },
  {
   "cell_type": "code",
   "execution_count": 27,
   "metadata": {},
   "outputs": [],
   "source": [
    "#import dataset\n",
    "original_election_data = pd.read_csv(\"merged_train.csv\")\n",
    "#original_election_data.head()"
   ]
  },
  {
   "cell_type": "code",
   "execution_count": 28,
   "metadata": {
    "scrolled": true
   },
   "outputs": [],
   "source": [
    "#import dataset\n",
    "test_data = pd.read_csv(\"demographics_test.csv\")\n",
    "#test_data.head()"
   ]
  },
  {
   "cell_type": "code",
   "execution_count": 29,
   "metadata": {
    "scrolled": true
   },
   "outputs": [],
   "source": [
    "demo_data = original_election_data[original_election_data['Party'] == 1]\n",
    "repub_data = original_election_data[original_election_data['Party'] != 1]"
   ]
  },
  {
   "cell_type": "markdown",
   "metadata": {},
   "source": [
    "### Task 1 : Partition dataset into training and validation sets "
   ]
  },
  {
   "cell_type": "code",
   "execution_count": 419,
   "metadata": {},
   "outputs": [],
   "source": [
    "#using Holdout method\n",
    "demo_x_train, demo_x_val, demo_y_train, demo_y_val = train_test_split(demo_data.iloc[:,:-3], demo_data['Democratic'], test_size = 0.30, random_state=30)\n",
    "repub_x_train, repub_x_val, repub_y_train, repub_y_val = train_test_split(repub_data.iloc[:,:-3], repub_data['Republican'], test_size = 0.30, random_state=30)\n",
    "#demo_x_train.head()\n",
    "#repub_x_train.iloc[:,3:]"
   ]
  },
  {
   "cell_type": "code",
   "execution_count": 420,
   "metadata": {},
   "outputs": [],
   "source": [
    "x_train, x_val, y_train, y_val = train_test_split(original_election_data.iloc[:,:-3], original_election_data['Party'], test_size = 0.25, random_state=0)"
   ]
  },
  {
   "cell_type": "markdown",
   "metadata": {},
   "source": [
    "### Task 2 : Standardizing training and validation sets"
   ]
  },
  {
   "cell_type": "code",
   "execution_count": 421,
   "metadata": {},
   "outputs": [],
   "source": [
    "scaler = StandardScaler()\n",
    "scaler.fit(demo_x_train.iloc[:,3:])\n",
    "demo_x_train_scaled = scaler.transform(demo_x_train.iloc[:,3:])\n",
    "demo_x_train_scaled = pd.DataFrame(demo_x_train_scaled)\n",
    "demo_x_val_scaled = scaler.transform(demo_x_val.iloc[:,3:])\n",
    "demo_x_val_scaled = pd.DataFrame(demo_x_val_scaled)\n",
    "#demo_x_train_scaled"
   ]
  },
  {
   "cell_type": "code",
   "execution_count": 422,
   "metadata": {},
   "outputs": [],
   "source": [
    "scaler = StandardScaler()\n",
    "scaler.fit(repub_x_train.iloc[:,3:])\n",
    "repub_x_train_scaled = scaler.transform(repub_x_train.iloc[:,3:])\n",
    "repub_x_train_scaled = pd.DataFrame(repub_x_train_scaled)\n",
    "repub_x_val_scaled = scaler.transform(repub_x_val.iloc[:,3:])\n",
    "repub_x_val_scaled = pd.DataFrame(repub_x_val_scaled)"
   ]
  },
  {
   "cell_type": "code",
   "execution_count": 423,
   "metadata": {},
   "outputs": [],
   "source": [
    "scaler.fit(x_train.iloc[:,3:])\n",
    "x_train_scaled = scaler.transform(x_train.iloc[:,3:])\n",
    "x_train_scaled = pd.DataFrame(x_train_scaled)\n",
    "x_val_scaled = scaler.transform(x_val.iloc[:,3:])\n",
    "x_val_scaled = pd.DataFrame(x_val_scaled)"
   ]
  },
  {
   "cell_type": "code",
   "execution_count": 424,
   "metadata": {},
   "outputs": [],
   "source": [
    "test_data_scaled = scaler.transform(test_data.iloc[:,3:])\n",
    "test_data_scaled = pd.DataFrame(test_data_scaled)"
   ]
  },
  {
   "cell_type": "markdown",
   "metadata": {},
   "source": [
    "### Task 3 : Build Linear Regression Model"
   ]
  },
  {
   "cell_type": "markdown",
   "metadata": {},
   "source": [
    "#### For Democratic Party"
   ]
  },
  {
   "cell_type": "code",
   "execution_count": 425,
   "metadata": {},
   "outputs": [
    {
     "name": "stdout",
     "output_type": "stream",
     "text": [
      "[105741.91890292  -7031.28797487   -945.29697906  -9221.09275689\n",
      "   3865.44004217   -134.00141223 -11055.88005376  -5330.51704405\n",
      "  -2491.95355306   1856.59733563   3747.47360309 -18201.54719527\n",
      "  -1197.67895929]\n",
      "73105.48898678414\n"
     ]
    }
   ],
   "source": [
    "model = linear_model.LinearRegression()\n",
    "fitted_model = model.fit(X = demo_x_train_scaled, y = demo_y_train)\n",
    "print(fitted_model.coef_)\n",
    "print(fitted_model.intercept_)"
   ]
  },
  {
   "cell_type": "code",
   "execution_count": 426,
   "metadata": {},
   "outputs": [
    {
     "name": "stdout",
     "output_type": "stream",
     "text": [
      "[ 39101.26684705   1957.05445949   3215.02004267  -8498.54521541\n",
      " 185541.37970331  87816.43262321  28910.1604136   59138.1950214\n",
      "  63239.90117786  27599.13010996  12216.54395254 216158.68759364\n",
      "   9699.91366015  13984.73290653  20885.08911647 214339.08433885\n",
      "  -4177.20344313 -15541.85150086   5218.44985097   3315.5014316 ]\n"
     ]
    }
   ],
   "source": [
    "predicted = fitted_model.predict(demo_x_val_scaled)\n",
    "print(predicted[:20])"
   ]
  },
  {
   "cell_type": "code",
   "execution_count": 427,
   "metadata": {},
   "outputs": [
    {
     "name": "stdout",
     "output_type": "stream",
     "text": [
      "0.8973625770302538\n",
      "0.8052595946543781\n",
      "0.777766831546761\n"
     ]
    }
   ],
   "source": [
    "corr_coef = np.corrcoef(predicted,demo_y_val)[1,0]\n",
    "print(corr_coef)\n",
    "R_squared = corr_coef ** 2\n",
    "print(R_squared)\n",
    "adj_R_squared =1 - (1 - R_squared)*(len(demo_y_val)-1)/(len(demo_y_val)-len(demo_x_train_scaled.columns-1))\n",
    "print(adj_R_squared)"
   ]
  },
  {
   "cell_type": "code",
   "execution_count": 428,
   "metadata": {},
   "outputs": [
    {
     "name": "stdout",
     "output_type": "stream",
     "text": [
      "0.7954782367588812\n",
      "0.7666045760660174\n"
     ]
    }
   ],
   "source": [
    "R_squared_ = fitted_model.score(X = demo_x_val_scaled, y = demo_y_val )\n",
    "print(R_squared_)\n",
    "adj_R_squared =1 - (1 - R_squared_)*(len(demo_y_val)-1)/(len(demo_y_val)-len(demo_x_train_scaled.columns-1))\n",
    "print(adj_R_squared)"
   ]
  },
  {
   "cell_type": "code",
   "execution_count": 18,
   "metadata": {},
   "outputs": [
    {
     "name": "stdout",
     "output_type": "stream",
     "text": [
      "43373.8217794965\n",
      "154265650092.28104\n",
      "1881288415.7595248\n",
      "43373.8217794965\n"
     ]
    }
   ],
   "source": [
    "rms = m.sqrt(mean_squared_error(demo_y_val, predicted))\n",
    "print(rms)\n",
    "print(((demo_y_val-predicted)**2).sum())   #rss\n",
    "print(np.mean((demo_y_val-predicted)**2))  #mse\n",
    "print(np.sqrt(np.mean((demo_y_val-predicted)**2)))"
   ]
  },
  {
   "cell_type": "markdown",
   "metadata": {},
   "source": [
    "#### Testing diffferent attributes"
   ]
  },
  {
   "cell_type": "code",
   "execution_count": 402,
   "metadata": {},
   "outputs": [],
   "source": [
    "cols = [6,7,8,9,10,11]"
   ]
  },
  {
   "cell_type": "code",
   "execution_count": 403,
   "metadata": {},
   "outputs": [
    {
     "name": "stdout",
     "output_type": "stream",
     "text": [
      "[-43322.69734676 -49970.46630587  -1677.51479903  13298.08899082\n",
      "  20855.39043928 -57164.76480477]\n",
      "67233.13168724277\n"
     ]
    }
   ],
   "source": [
    "model = linear_model.LinearRegression()\n",
    "fitted_model = model.fit(X = demo_x_train_scaled.iloc[:,cols], y = demo_y_train)\n",
    "print(fitted_model.coef_)\n",
    "print(fitted_model.intercept_)"
   ]
  },
  {
   "cell_type": "code",
   "execution_count": 404,
   "metadata": {},
   "outputs": [],
   "source": [
    "predicted = fitted_model.predict(demo_x_val_scaled.iloc[:, cols])"
   ]
  },
  {
   "cell_type": "code",
   "execution_count": 405,
   "metadata": {},
   "outputs": [
    {
     "name": "stdout",
     "output_type": "stream",
     "text": [
      "0.4897732394781385\n",
      "0.23987782610891\n",
      "0.18986978835291735\n"
     ]
    }
   ],
   "source": [
    "corr_coef = np.corrcoef(predicted,demo_y_val)[1,0]\n",
    "print(corr_coef)\n",
    "R_squared = corr_coef ** 2\n",
    "print(R_squared)\n",
    "adj_R_squared =1 - (1 - R_squared)*(len(demo_y_val)-1)/(len(demo_y_val)-len(demo_x_train_scaled.iloc[:, cols].columns-1))\n",
    "print(adj_R_squared)"
   ]
  },
  {
   "cell_type": "code",
   "execution_count": 103,
   "metadata": {},
   "outputs": [
    {
     "name": "stdout",
     "output_type": "stream",
     "text": [
      "0.28959644416308383\n",
      "0.2223961078001323\n"
     ]
    }
   ],
   "source": [
    "R_squared_ = fitted_model.score(X = demo_x_val_scaled.iloc[:,cols], y = demo_y_val )\n",
    "print(R_squared_)\n",
    "adj_R_squared =1 - (1 - R_squared_)*(len(demo_y_val)-1)/(len(demo_y_val)-len(demo_x_train_scaled.iloc[:,cols].columns)-1)\n",
    "print(adj_R_squared)"
   ]
  },
  {
   "cell_type": "code",
   "execution_count": 108,
   "metadata": {},
   "outputs": [
    {
     "name": "stdout",
     "output_type": "stream",
     "text": [
      "[ 60318.98120639  -1908.57695683   2771.30170185  -1539.49712625\n",
      "  13044.70003014   2477.39222874  -5129.16528465  -3607.78418101\n",
      "   3799.75940823   2473.05511638   -687.70635787 -10084.86381959\n",
      "  -9512.70085209]\n",
      "0.9421094398066846\n",
      "0.8875701965728651\n"
     ]
    }
   ],
   "source": [
    "model = linear_model.ElasticNet(alpha = 1, l1_ratio = 0.5)\n",
    "fitted_model = model.fit(X = demo_x_train_scaled, y = demo_y_train)\n",
    "predicted = fitted_model.predict(demo_x_val_scaled)\n",
    "print(fitted_model.coef_)\n",
    "corr_coef = np.corrcoef(predicted, demo_y_val)[1, 0]\n",
    "print(corr_coef)\n",
    "R_squared = corr_coef**2\n",
    "print(R_squared)"
   ]
  },
  {
   "cell_type": "code",
   "execution_count": 107,
   "metadata": {},
   "outputs": [
    {
     "name": "stdout",
     "output_type": "stream",
     "text": [
      "43142.59227696904\n",
      "152625228006.89664\n",
      "1861283268.3767886\n",
      "43142.59227696904\n"
     ]
    }
   ],
   "source": [
    "rms = m.sqrt(mean_squared_error(demo_y_val, predicted))\n",
    "print(rms)\n",
    "print(((demo_y_val-predicted)**2).sum())   #rss\n",
    "print(np.mean((demo_y_val-predicted)**2))  #mse\n",
    "print(np.sqrt(np.mean((demo_y_val-predicted)**2)))"
   ]
  },
  {
   "cell_type": "code",
   "execution_count": 219,
   "metadata": {},
   "outputs": [],
   "source": [
    "#demo_x_train_scaled.head()"
   ]
  },
  {
   "cell_type": "code",
   "execution_count": 386,
   "metadata": {},
   "outputs": [
    {
     "data": {
      "text/plain": [
       "Total Population                         274659.238683\n",
       "Percent White, not Hispanic or Latino        70.684327\n",
       "Percent Black, not Hispanic or Latino         9.557471\n",
       "Percent Hispanic or Latino                   10.632678\n",
       "Percent Foreign Born                          7.199469\n",
       "Percent Female                               50.398727\n",
       "Percent Age 29 and Under                     38.759771\n",
       "Percent Age 65 and Older                     16.271177\n",
       "Median Household Income                   53588.407407\n",
       "Percent Unemployed                            6.863873\n",
       "Percent Less than High School Degree         11.679167\n",
       "Percent Less than Bachelor's Degree          72.279062\n",
       "Percent Rural                                37.611821\n",
       "dtype: float64"
      ]
     },
     "execution_count": 386,
     "metadata": {},
     "output_type": "execute_result"
    }
   ],
   "source": [
    "demo_x_train.iloc[:,3:].mean()"
   ]
  },
  {
   "cell_type": "markdown",
   "metadata": {},
   "source": [
    "#### For Republic Party"
   ]
  },
  {
   "cell_type": "code",
   "execution_count": 414,
   "metadata": {},
   "outputs": [
    {
     "name": "stdout",
     "output_type": "stream",
     "text": [
      "[20959.79427444  1073.48906332    26.5507054    519.20511435\n",
      "   160.1325564   -219.55535432  -795.00206857  1142.94276452\n",
      "  1519.76548773   409.04285069   625.62619945  -589.5266056\n",
      "  -282.89398987]\n",
      "12655.983128834358\n"
     ]
    }
   ],
   "source": [
    "model = linear_model.LinearRegression()\n",
    "fitted_model = model.fit(X = repub_x_train_scaled, y = repub_y_train)\n",
    "print(fitted_model.coef_)\n",
    "print(fitted_model.intercept_)"
   ]
  },
  {
   "cell_type": "code",
   "execution_count": 415,
   "metadata": {},
   "outputs": [
    {
     "name": "stdout",
     "output_type": "stream",
     "text": [
      "[10845.75805198 24983.35644565 35797.76474502  2213.69567533\n",
      "  1113.58400542]\n"
     ]
    }
   ],
   "source": [
    "predicted = fitted_model.predict(repub_x_val_scaled)\n",
    "print(predicted[:5])"
   ]
  },
  {
   "cell_type": "code",
   "execution_count": 21,
   "metadata": {},
   "outputs": [
    {
     "name": "stdout",
     "output_type": "stream",
     "text": [
      "0.9827560742690562\n",
      "0.9658095015127267\n",
      "0.9638081064793254\n"
     ]
    }
   ],
   "source": [
    "corr_coef = np.corrcoef(predicted,repub_y_val)[1,0]\n",
    "print(corr_coef)\n",
    "R_squared = corr_coef ** 2\n",
    "print(R_squared)\n",
    "adj_R_squared =1 - (1 - R_squared)*(len(repub_y_val)-1)/(len(repub_y_val)-len(repub_x_train_scaled.columns-1))\n",
    "print(adj_R_squared)"
   ]
  },
  {
   "cell_type": "code",
   "execution_count": 22,
   "metadata": {},
   "outputs": [
    {
     "name": "stdout",
     "output_type": "stream",
     "text": [
      "0.956582314849456\n",
      "0.9540407918162535\n"
     ]
    }
   ],
   "source": [
    "R_squared_ = fitted_model.score(X = repub_x_val_scaled, y = repub_y_val )\n",
    "print(R_squared_)\n",
    "adj_R_squared =1 - (1 - R_squared_)*(len(repub_y_val)-1)/(len(repub_y_val)-len(repub_x_train_scaled.columns-1))\n",
    "print(adj_R_squared)"
   ]
  },
  {
   "cell_type": "code",
   "execution_count": 23,
   "metadata": {},
   "outputs": [
    {
     "name": "stdout",
     "output_type": "stream",
     "text": [
      "5032.5002019522135\n"
     ]
    }
   ],
   "source": [
    "rms = m.sqrt(mean_squared_error(repub_y_val, predicted))\n",
    "print(rms)"
   ]
  },
  {
   "cell_type": "code",
   "execution_count": null,
   "metadata": {},
   "outputs": [],
   "source": []
  },
  {
   "cell_type": "markdown",
   "metadata": {},
   "source": [
    "### Task 4 : Build Classification Model"
   ]
  },
  {
   "cell_type": "markdown",
   "metadata": {},
   "source": [
    "#### k Nearest"
   ]
  },
  {
   "cell_type": "code",
   "execution_count": 702,
   "metadata": {},
   "outputs": [
    {
     "data": {
      "text/plain": [
       "KNeighborsClassifier(algorithm='auto', leaf_size=30, metric='minkowski',\n",
       "                     metric_params=None, n_jobs=None, n_neighbors=9, p=2,\n",
       "                     weights='distance')"
      ]
     },
     "execution_count": 702,
     "metadata": {},
     "output_type": "execute_result"
    }
   ],
   "source": [
    "classifier = KNeighborsClassifier(n_neighbors = 9, weights ='distance')  \n",
    "classifier.fit(x_train_scaled,y_train)"
   ]
  },
  {
   "cell_type": "code",
   "execution_count": 703,
   "metadata": {},
   "outputs": [],
   "source": [
    "y_pred = classifier.predict(x_val_scaled)"
   ]
  },
  {
   "cell_type": "code",
   "execution_count": 704,
   "metadata": {},
   "outputs": [
    {
     "name": "stdout",
     "output_type": "stream",
     "text": [
      "[[210  12]\n",
      " [ 44  33]]\n"
     ]
    },
    {
     "data": {
      "image/png": "[encoded data removed]",
      "text/plain": [
       "<Figure size 432x288 with 2 Axes>"
      ]
     },
     "metadata": {
      "needs_background": "light"
     },
     "output_type": "display_data"
    }
   ],
   "source": [
    "conf_matrix = metrics.confusion_matrix(y_val,y_pred)\n",
    "sns.heatmap(conf_matrix, annot = True, fmt = \".2f\", square = True, cmap = plt.cm.Blues)\n",
    "plt.ylabel('Actual')\n",
    "plt.xlabel('Predicted')\n",
    "plt.title('Confusion matrix')\n",
    "plt.tight_layout()\n",
    "print(conf_matrix)"
   ]
  },
  {
   "cell_type": "code",
   "execution_count": 705,
   "metadata": {},
   "outputs": [
    {
     "name": "stdout",
     "output_type": "stream",
     "text": [
      "[0.8127090301003345, 0.18729096989966554, array([0.82677165, 0.73333333]), array([0.94594595, 0.42857143]), array([0.88235294, 0.54098361])]\n"
     ]
    }
   ],
   "source": [
    "accuracy = metrics.accuracy_score(y_val,y_pred)\n",
    "error = 1 - accuracy\n",
    "precision = metrics.precision_score(y_val, y_pred, average = None)\n",
    "recall = metrics.recall_score(y_val, y_pred, average = None)\n",
    "F1_score = metrics.f1_score(y_val, y_pred, average = None)\n",
    "print([accuracy, error, precision, recall, F1_score])"
   ]
  },
  {
   "cell_type": "code",
   "execution_count": 129,
   "metadata": {},
   "outputs": [
    {
     "name": "stdout",
     "output_type": "stream",
     "text": [
      "[1, 0.7759197324414716, 0.2240802675585284, array([0.84444444, 0.56756757]), array([0.85585586, 0.54545455]), array([0.85011186, 0.55629139])]\n",
      "[2, 0.7759197324414716, 0.2240802675585284, array([0.84444444, 0.56756757]), array([0.85585586, 0.54545455]), array([0.85011186, 0.55629139])]\n",
      "[3, 0.802675585284281, 0.19732441471571904, array([0.83817427, 0.65517241]), array([0.90990991, 0.49350649]), array([0.87257019, 0.56296296])]\n",
      "[4, 0.7859531772575251, 0.21404682274247488, array([0.82916667, 0.61016949]), array([0.8963964 , 0.46753247]), array([0.86147186, 0.52941176])]\n",
      "[5, 0.7959866220735786, 0.20401337792642138, array([0.82071713, 0.66666667]), array([0.92792793, 0.41558442]), array([0.87103594, 0.512     ])]\n",
      "[6, 0.7993311036789298, 0.2006688963210702, array([0.82926829, 0.66037736]), array([0.91891892, 0.45454545]), array([0.87179487, 0.53846154])]\n",
      "[7, 0.7926421404682275, 0.20735785953177255, array([0.81746032, 0.65957447]), array([0.92792793, 0.4025974 ]), array([0.86919831, 0.5       ])]\n",
      "[8, 0.802675585284281, 0.19732441471571904, array([0.8247012, 0.6875   ]), array([0.93243243, 0.42857143]), array([0.87526427, 0.528     ])]\n",
      "[9, 0.8127090301003345, 0.18729096989966554, array([0.82677165, 0.73333333]), array([0.94594595, 0.42857143]), array([0.88235294, 0.54098361])]\n",
      "[10, 0.8060200668896321, 0.19397993311036787, array([0.82539683, 0.70212766]), array([0.93693694, 0.42857143]), array([0.87763713, 0.53225806])]\n",
      "[11, 0.822742474916388, 0.17725752508361203, array([0.83399209, 0.76086957]), array([0.95045045, 0.45454545]), array([0.88842105, 0.56910569])]\n",
      "[12, 0.8193979933110368, 0.1806020066889632, array([0.828125  , 0.76744186]), array([0.95495495, 0.42857143]), array([0.88702929, 0.55      ])]\n",
      "[13, 0.822742474916388, 0.17725752508361203, array([0.83137255, 0.77272727]), array([0.95495495, 0.44155844]), array([0.88888889, 0.56198347])]\n",
      "[14, 0.8260869565217391, 0.17391304347826086, array([0.82945736, 0.80487805]), array([0.96396396, 0.42857143]), array([0.89166667, 0.55932203])]\n",
      "[15, 0.8294314381270903, 0.1705685618729097, array([0.82758621, 0.84210526]), array([0.97297297, 0.41558442]), array([0.89440994, 0.55652174])]\n",
      "[16, 0.8160535117056856, 0.18394648829431437, array([0.81992337, 0.78947368]), array([0.96396396, 0.38961039]), array([0.88612836, 0.52173913])]\n",
      "[17, 0.8160535117056856, 0.18394648829431437, array([0.81992337, 0.78947368]), array([0.96396396, 0.38961039]), array([0.88612836, 0.52173913])]\n",
      "[18, 0.8193979933110368, 0.1806020066889632, array([0.81818182, 0.82857143]), array([0.97297297, 0.37662338]), array([0.88888889, 0.51785714])]\n",
      "[19, 0.8127090301003345, 0.18729096989966554, array([0.81679389, 0.78378378]), array([0.96396396, 0.37662338]), array([0.88429752, 0.50877193])]\n"
     ]
    }
   ],
   "source": [
    "for i in range(1,20):\n",
    "    classifier = KNeighborsClassifier(n_neighbors = i,weights='distance')  \n",
    "    classifier.fit(x_train_scaled,y_train)\n",
    "    y_pred = classifier.predict(x_val_scaled)\n",
    "    accuracy = metrics.accuracy_score(y_val,y_pred)\n",
    "    error = 1 - accuracy\n",
    "    precision = metrics.precision_score(y_val, y_pred, average = None)\n",
    "    recall = metrics.recall_score(y_val, y_pred, average = None)\n",
    "    F1_score = metrics.f1_score(y_val, y_pred, average = None)\n",
    "    print([i,accuracy, error, precision, recall, F1_score])\n"
   ]
  },
  {
   "cell_type": "markdown",
   "metadata": {},
   "source": [
    "#### Testing different attributes"
   ]
  },
  {
   "cell_type": "code",
   "execution_count": 681,
   "metadata": {},
   "outputs": [],
   "source": [
    "cols = [3,5,6,7,8,9,11,12]"
   ]
  },
  {
   "cell_type": "code",
   "execution_count": 691,
   "metadata": {},
   "outputs": [
    {
     "data": {
      "text/plain": [
       "KNeighborsClassifier(algorithm='auto', leaf_size=30, metric='minkowski',\n",
       "                     metric_params=None, n_jobs=None, n_neighbors=9, p=2,\n",
       "                     weights='uniform')"
      ]
     },
     "execution_count": 691,
     "metadata": {},
     "output_type": "execute_result"
    }
   ],
   "source": [
    "classifier = KNeighborsClassifier(n_neighbors = 9)  \n",
    "classifier.fit(x_train_scaled.iloc[:,cols],y_train)"
   ]
  },
  {
   "cell_type": "code",
   "execution_count": 692,
   "metadata": {},
   "outputs": [],
   "source": [
    "y_pred = classifier.predict(x_val_scaled.iloc[:,cols])"
   ]
  },
  {
   "cell_type": "code",
   "execution_count": 693,
   "metadata": {},
   "outputs": [
    {
     "name": "stdout",
     "output_type": "stream",
     "text": [
      "[0.8561872909698997, 0.14381270903010035, array([0.85943775, 0.84      ]), array([0.96396396, 0.54545455]), array([0.90870488, 0.66141732])]\n"
     ]
    }
   ],
   "source": [
    "accuracy = metrics.accuracy_score(y_val,y_pred)\n",
    "error = 1 - accuracy\n",
    "precision = metrics.precision_score(y_val, y_pred, average = None)\n",
    "recall = metrics.recall_score(y_val, y_pred, average = None)\n",
    "F1_score = metrics.f1_score(y_val, y_pred, average = None)\n",
    "print([accuracy, error, precision, recall, F1_score])"
   ]
  },
  {
   "cell_type": "code",
   "execution_count": 526,
   "metadata": {},
   "outputs": [
    {
     "name": "stdout",
     "output_type": "stream",
     "text": [
      "[[212  10]\n",
      " [ 36  41]]\n"
     ]
    },
    {
     "data": {
      "image/png": "[encoded data removed]",
      "text/plain": [
       "<Figure size 432x288 with 2 Axes>"
      ]
     },
     "metadata": {
      "needs_background": "light"
     },
     "output_type": "display_data"
    }
   ],
   "source": [
    "conf_matrix = metrics.confusion_matrix(y_val,y_pred)\n",
    "sns.heatmap(conf_matrix, annot = True, fmt = \".2f\", square = True, cmap = plt.cm.Blues)\n",
    "plt.ylabel('Actual')\n",
    "plt.xlabel('Predicted')\n",
    "plt.title('Confusion matrix')\n",
    "plt.tight_layout()\n",
    "print(conf_matrix)"
   ]
  },
  {
   "cell_type": "markdown",
   "metadata": {},
   "source": [
    "#### SVM"
   ]
  },
  {
   "cell_type": "code",
   "execution_count": 410,
   "metadata": {},
   "outputs": [
    {
     "data": {
      "text/plain": [
       "SVC(C=1.0, cache_size=200, class_weight=None, coef0=0.0,\n",
       "    decision_function_shape='ovr', degree=3, gamma='auto', kernel='rbf',\n",
       "    max_iter=-1, probability=False, random_state=None, shrinking=True,\n",
       "    tol=0.001, verbose=False)"
      ]
     },
     "execution_count": 410,
     "metadata": {},
     "output_type": "execute_result"
    }
   ],
   "source": [
    "classifier = SVC(kernel = 'rbf', gamma = 'auto')  \n",
    "classifier.fit(x_train_scaled,y_train)"
   ]
  },
  {
   "cell_type": "code",
   "execution_count": 411,
   "metadata": {},
   "outputs": [],
   "source": [
    "y_pred = classifier.predict(x_val_scaled)"
   ]
  },
  {
   "cell_type": "code",
   "execution_count": 412,
   "metadata": {},
   "outputs": [
    {
     "name": "stdout",
     "output_type": "stream",
     "text": [
      "[[216   6]\n",
      " [ 37  40]]\n"
     ]
    },
    {
     "data": {
      "image/png": "[encoded data removed]",
      "text/plain": [
       "<Figure size 432x288 with 2 Axes>"
      ]
     },
     "metadata": {
      "needs_background": "light"
     },
     "output_type": "display_data"
    }
   ],
   "source": [
    "conf_matrix = metrics.confusion_matrix(y_val,y_pred)\n",
    "sns.heatmap(conf_matrix, annot = True, fmt = \".2f\", square = True, cmap = plt.cm.Blues)\n",
    "plt.ylabel('Actual')\n",
    "plt.xlabel('Predicted')\n",
    "plt.title('Confusion matrix')\n",
    "plt.tight_layout()\n",
    "print(conf_matrix)"
   ]
  },
  {
   "cell_type": "code",
   "execution_count": 413,
   "metadata": {},
   "outputs": [
    {
     "name": "stdout",
     "output_type": "stream",
     "text": [
      "[0.8561872909698997, 0.14381270903010035, array([0.85375494, 0.86956522]), array([0.97297297, 0.51948052]), array([0.90947368, 0.6504065 ])]\n"
     ]
    }
   ],
   "source": [
    "accuracy = metrics.accuracy_score(y_val,y_pred)\n",
    "error = 1 - accuracy\n",
    "precision = metrics.precision_score(y_val, y_pred, average = None)\n",
    "recall = metrics.recall_score(y_val, y_pred, average = None)\n",
    "F1_score = metrics.f1_score(y_val, y_pred, average = None)\n",
    "print([accuracy, error, precision, recall, F1_score])"
   ]
  },
  {
   "cell_type": "markdown",
   "metadata": {},
   "source": [
    "#### Testing different attributes"
   ]
  },
  {
   "cell_type": "code",
   "execution_count": 643,
   "metadata": {},
   "outputs": [],
   "source": [
    "cols = [2,3,6,7,8,9,11,12]"
   ]
  },
  {
   "cell_type": "code",
   "execution_count": 644,
   "metadata": {
    "scrolled": true
   },
   "outputs": [
    {
     "data": {
      "text/plain": [
       "SVC(C=1.0, cache_size=200, class_weight=None, coef0=0.0,\n",
       "    decision_function_shape='ovr', degree=3, gamma='auto', kernel='rbf',\n",
       "    max_iter=-1, probability=False, random_state=None, shrinking=True,\n",
       "    tol=0.001, verbose=False)"
      ]
     },
     "execution_count": 644,
     "metadata": {},
     "output_type": "execute_result"
    }
   ],
   "source": [
    "classifier = SVC(kernel = 'rbf', gamma = 'auto')  \n",
    "classifier.fit(x_train_scaled.iloc[:,cols],y_train)"
   ]
  },
  {
   "cell_type": "code",
   "execution_count": 645,
   "metadata": {},
   "outputs": [],
   "source": [
    "y_pred = classifier.predict(x_val_scaled.iloc[:,cols])"
   ]
  },
  {
   "cell_type": "code",
   "execution_count": 646,
   "metadata": {},
   "outputs": [
    {
     "name": "stdout",
     "output_type": "stream",
     "text": [
      "[0.8561872909698997, 0.14381270903010035, array([0.85943775, 0.84      ]), array([0.96396396, 0.54545455]), array([0.90870488, 0.66141732])]\n"
     ]
    }
   ],
   "source": [
    "accuracy = metrics.accuracy_score(y_val,y_pred)\n",
    "error = 1 - accuracy\n",
    "precision = metrics.precision_score(y_val, y_pred, average = None)\n",
    "recall = metrics.recall_score(y_val, y_pred, average = None)\n",
    "F1_score = metrics.f1_score(y_val, y_pred, average = None)\n",
    "print([accuracy, error, precision, recall, F1_score])"
   ]
  },
  {
   "cell_type": "code",
   "execution_count": 706,
   "metadata": {},
   "outputs": [
    {
     "name": "stdout",
     "output_type": "stream",
     "text": [
      "[[210  12]\n",
      " [ 44  33]]\n"
     ]
    },
    {
     "data": {
      "image/png": "[encoded data removed]",
      "text/plain": [
       "<Figure size 432x288 with 2 Axes>"
      ]
     },
     "metadata": {
      "needs_background": "light"
     },
     "output_type": "display_data"
    }
   ],
   "source": [
    "conf_matrix = metrics.confusion_matrix(y_val,y_pred)\n",
    "sns.heatmap(conf_matrix, annot = True, fmt = \".2f\", square = True, cmap = plt.cm.Blues)\n",
    "plt.ylabel('Actual')\n",
    "plt.xlabel('Predicted')\n",
    "plt.title('Confusion matrix')\n",
    "plt.tight_layout()\n",
    "print(conf_matrix)"
   ]
  },
  {
   "cell_type": "markdown",
   "metadata": {},
   "source": [
    "### Task 4 : Build Clustering model"
   ]
  },
  {
   "cell_type": "code",
   "execution_count": null,
   "metadata": {},
   "outputs": [],
   "source": []
  }
 ],
 "metadata": {
  "kernelspec": {
   "display_name": "Python 3",
   "language": "python",
   "name": "python3"
  },
  "language_info": {
   "codemirror_mode": {
    "name": "ipython",
    "version": 3
   },
   "file_extension": ".py",
   "mimetype": "text/x-python",
   "name": "python",
   "nbconvert_exporter": "python",
   "pygments_lexer": "ipython3",
   "version": "3.6.9"
  }
 },
 "nbformat": 4,
 "nbformat_minor": 4
}
